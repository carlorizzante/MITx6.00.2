{
 "cells": [
  {
   "cell_type": "code",
   "execution_count": 44,
   "metadata": {},
   "outputs": [],
   "source": [
    "class Node(object):\n",
    "    def __init__(self, name):\n",
    "        \"\"\" Assumes name is a string.\"\"\"\n",
    "        self.name = name\n",
    "    def getName(self):\n",
    "        return self.name\n",
    "    def __str__(self):\n",
    "        return self.name\n",
    "\n",
    "class Edge(object):\n",
    "    def __init__(self, src, dest):\n",
    "        \"\"\" Assumes src, dest are nodes.\"\"\"\n",
    "        self.src = src\n",
    "        self.dest = dest\n",
    "    def getSrc(self):\n",
    "        return self.src\n",
    "    def getDest(self):\n",
    "        return self.dest\n",
    "    def __str__(self):\n",
    "        return self.src.getName() + \"->\" + self.dest.getName()\n",
    "    \n",
    "class WeightedEdge(Edge):\n",
    "    def __init__(self, src, dest, weight):\n",
    "        self.src = src\n",
    "        self.dest = dest\n",
    "        self.weight = weight\n",
    "    def getWeight(self):\n",
    "        return self.weight\n",
    "    def __str__(self):\n",
    "        return self.src.getName() + \"->\" + self.dest.getName() + \" (\" + str(self.weight) + \")\"\n",
    "    \n",
    "class Digraph(object):\n",
    "    def __init__(self):\n",
    "        \"\"\" self.edges is dict mapping each node to a list of its children.\"\"\"\n",
    "        self.edges = {}\n",
    "    def addNode(self, node):\n",
    "        if node in self.edges:\n",
    "            raise ValueError(\"Duplicated node.\")\n",
    "        else:\n",
    "            self.edges[node] = []\n",
    "    def addEdge(self, edge):\n",
    "        src = edge.getSrc()\n",
    "        dest = edge.getDest()\n",
    "        if not (src in self.edges and dest in self.edges):\n",
    "            raise ValueError(\"Node not in graph.\")\n",
    "        else:\n",
    "            self.edges[src].append(dest)\n",
    "    def childrenOf(self, node):\n",
    "        return self.edges[node]\n",
    "    def hasNode(self, node):\n",
    "        return node in self.edges\n",
    "    def getNode(self, name):\n",
    "        for node in self.edges:\n",
    "            if node.getName() == name:\n",
    "                return node\n",
    "        raise NameError(name + \" Not Found.\")\n",
    "    def __str__(self):\n",
    "        result = \"\"\n",
    "        for src in self.edges:\n",
    "            for dest in self.edges[src]:\n",
    "                result += src.getName() + \" -> \" + dest.getName() + \"\\n\"\n",
    "        return result[:-1] # Remove last char (new line)\n",
    "    \n",
    "class Graph(Digraph):\n",
    "    def addEdge(self, edge):\n",
    "        Digraph.addEdge(self, edge)\n",
    "        rev = Edge(edge.getDest(), edge.getSrc())\n",
    "        Digraph.addEdge(self, rev) # Add the way back from dest to src     \n",
    "        \n",
    "def DFS(graph, start, end, path=[], shortest=None, toPrint=False):\n",
    "    path = path + [start]\n",
    "    if start == end:\n",
    "        return path\n",
    "    for node in graph.childrenOf(start):\n",
    "        if node not in path: # avoid cycles\n",
    "            if shortest == None or len(path) < len(shortest):\n",
    "                newPath = DFS(graph, node, end, path, shortest)\n",
    "                if newPath != None:\n",
    "                    shortest = newPath\n",
    "    return shortest\n",
    "\n",
    "def shortestPath(graph, start, end): # Really not needed\n",
    "    return DFS(graph, start, end, [], None, True)"
   ]
  },
  {
   "cell_type": "code",
   "execution_count": 58,
   "metadata": {},
   "outputs": [
    {
     "name": "stdout",
     "output_type": "stream",
     "text": [
      "Los Angeles\n",
      "Boston\n",
      "New York\n",
      "Chicago\n",
      "Denver\n",
      "\n",
      "Los Angeles\n",
      "Boston\n",
      "New York\n",
      "Denver\n",
      "\n",
      "No path found from Denver to Los Angeles\n",
      "\n",
      "Denver\n",
      "New York\n",
      "Boston\n",
      "Los Angeles\n"
     ]
    }
   ],
   "source": [
    "def buildCityGraph(graphType):\n",
    "    g = graphType()\n",
    "    for city in (\"Boston\", \"Providence\", \"New York\", \"Chicago\", \"Denver\", \"Phoenix\", \"Los Angeles\"):\n",
    "        g.addNode(Node(city))\n",
    "    g.addEdge(Edge(g.getNode(\"Boston\"), g.getNode(\"Providence\")))\n",
    "    g.addEdge(Edge(g.getNode(\"Boston\"), g.getNode(\"New York\")))\n",
    "    g.addEdge(Edge(g.getNode(\"Providence\"), g.getNode(\"Boston\")))\n",
    "    g.addEdge(Edge(g.getNode(\"Providence\"), g.getNode(\"New York\")))\n",
    "    g.addEdge(Edge(g.getNode(\"New York\"), g.getNode(\"Chicago\")))\n",
    "    g.addEdge(Edge(g.getNode(\"Chicago\"), g.getNode(\"Denver\")))\n",
    "    g.addEdge(Edge(g.getNode(\"Chicago\"), g.getNode(\"Phoenix\")))\n",
    "    g.addEdge(Edge(g.getNode(\"Denver\"), g.getNode(\"Phoenix\")))\n",
    "    g.addEdge(Edge(g.getNode(\"Denver\"), g.getNode(\"New York\")))\n",
    "    g.addEdge(Edge(g.getNode(\"Los Angeles\"), g.getNode(\"Boston\")))\n",
    "    return g\n",
    "\n",
    "citygraph1 = buildCityGraph(Digraph)\n",
    "citygraph2 = buildCityGraph(Graph)\n",
    "# print(citygraph1)\n",
    "# print(\"\")\n",
    "# print(citygraph2)\n",
    "\n",
    "def findPath(graph, start, end):\n",
    "    start = graph.getNode(start)\n",
    "    end = graph.getNode(end)\n",
    "    path = DFS(graph, start, end)\n",
    "    if path == None:\n",
    "        print(\"No path found from\", start, \"to\", end)\n",
    "    else:\n",
    "        for node in path:\n",
    "            print(node)\n",
    "\n",
    "findPath(citygraph1, \"Los Angeles\", \"Denver\")\n",
    "print(\"\")\n",
    "findPath(citygraph2, \"Los Angeles\", \"Denver\")\n",
    "print(\"\")\n",
    "findPath(citygraph1, \"Denver\", \"Los Angeles\") # No path\n",
    "print(\"\")\n",
    "findPath(citygraph2, \"Denver\", \"Los Angeles\") # Back way"
   ]
  },
  {
   "cell_type": "code",
   "execution_count": 62,
   "metadata": {},
   "outputs": [
    {
     "name": "stdout",
     "output_type": "stream",
     "text": [
      "No path found from Chicago to Boston\n",
      "\n",
      "Chicago\n",
      "New York\n",
      "Boston\n",
      "\n",
      "Boston\n",
      "New York\n",
      "Chicago\n",
      "\n",
      "Boston\n",
      "New York\n",
      "Chicago\n"
     ]
    }
   ],
   "source": [
    "findPath(citygraph1, \"Chicago\", \"Boston\") # No path?\n",
    "print(\"\")\n",
    "findPath(citygraph2, \"Chicago\", \"Boston\")\n",
    "print(\"\")\n",
    "findPath(citygraph1, \"Boston\", \"Chicago\")\n",
    "print(\"\")\n",
    "findPath(citygraph2, \"Boston\", \"Chicago\") # Back way"
   ]
  },
  {
   "cell_type": "code",
   "execution_count": 67,
   "metadata": {},
   "outputs": [
    {
     "name": "stdout",
     "output_type": "stream",
     "text": [
      "Boston\n",
      "New York\n",
      "Chicago\n",
      "Phoenix\n",
      "\n",
      "Boston\n",
      "New York\n",
      "Denver\n",
      "Phoenix\n",
      "\n",
      "No path found from Phoenix to Boston\n",
      "\n",
      "Phoenix\n",
      "Denver\n",
      "New York\n",
      "Boston\n"
     ]
    }
   ],
   "source": [
    "findPath(citygraph1, \"Boston\", \"Phoenix\")\n",
    "print(\"\")\n",
    "findPath(citygraph2, \"Boston\", \"Phoenix\")\n",
    "print(\"\")\n",
    "findPath(citygraph1, \"Phoenix\", \"Boston\") # No path\n",
    "print(\"\")\n",
    "findPath(citygraph2, \"Phoenix\", \"Boston\") # Back way"
   ]
  },
  {
   "cell_type": "code",
   "execution_count": 40,
   "metadata": {},
   "outputs": [
    {
     "name": "stdout",
     "output_type": "stream",
     "text": [
      "ABC -> ACB\n",
      "ABC -> BAC\n",
      "ACB -> ABC\n",
      "ACB -> CAB\n",
      "BAC -> ABC\n",
      "BAC -> BCA\n",
      "BCA -> BAC\n",
      "BCA -> CBA\n",
      "CAB -> ACB\n",
      "CAB -> CBA\n",
      "CBA -> BCA\n",
      "CBA -> CAB\n"
     ]
    }
   ],
   "source": [
    "# Write the code that adds the appropriate edges to the graph\n",
    "# in this box.\n",
    "nodes = []\n",
    "nodes.append(Node(\"ABC\")) # nodes[0]\n",
    "nodes.append(Node(\"ACB\")) # nodes[1]\n",
    "nodes.append(Node(\"BAC\")) # nodes[2]\n",
    "nodes.append(Node(\"BCA\")) # nodes[3]\n",
    "nodes.append(Node(\"CAB\")) # nodes[4]\n",
    "nodes.append(Node(\"CBA\")) # nodes[5]\n",
    "\n",
    "g = Graph()\n",
    "for n in nodes:\n",
    "    g.addNode(n)\n",
    "g.addEdge(Edge(g.getNode(\"ABC\"), g.getNode(\"ACB\")))\n",
    "g.addEdge(Edge(g.getNode(\"ABC\"), g.getNode(\"BAC\")))\n",
    "g.addEdge(Edge(g.getNode(\"ACB\"), g.getNode(\"CAB\")))\n",
    "g.addEdge(Edge(g.getNode(\"BAC\"), g.getNode(\"BCA\")))\n",
    "g.addEdge(Edge(g.getNode(\"BCA\"), g.getNode(\"CBA\")))\n",
    "g.addEdge(Edge(g.getNode(\"CAB\"), g.getNode(\"CBA\")))\n",
    "\n",
    "print(g)"
   ]
  },
  {
   "cell_type": "code",
   "execution_count": 41,
   "metadata": {},
   "outputs": [
    {
     "data": {
      "text/plain": [
       "[1]"
      ]
     },
     "execution_count": 41,
     "metadata": {},
     "output_type": "execute_result"
    }
   ],
   "source": []
  },
  {
   "cell_type": "code",
   "execution_count": null,
   "metadata": {
    "collapsed": true
   },
   "outputs": [],
   "source": []
  }
 ],
 "metadata": {
  "kernelspec": {
   "display_name": "Python 3",
   "language": "python",
   "name": "python3"
  },
  "language_info": {
   "codemirror_mode": {
    "name": "ipython",
    "version": 3
   },
   "file_extension": ".py",
   "mimetype": "text/x-python",
   "name": "python",
   "nbconvert_exporter": "python",
   "pygments_lexer": "ipython3",
   "version": "3.6.2"
  }
 },
 "nbformat": 4,
 "nbformat_minor": 2
}
