{
 "cells": [
  {
   "cell_type": "code",
   "execution_count": 75,
   "metadata": {},
   "outputs": [],
   "source": [
    "menu = {\n",
    "    \"wine\" : (89, 123),\n",
    "    \"beer\" : (90, 154),\n",
    "    \"pizza\" : (30, 258),\n",
    "    \"burger\" : (50, 354),\n",
    "    \"fries\" : (90, 365),\n",
    "    \"coke\" : (79, 150),\n",
    "    \"apple\" : (90, 95),\n",
    "    \"dobnut\" : (10, 195)\n",
    "}\n",
    "\n",
    "def makesFoods(menu):\n",
    "    names = []\n",
    "    values = []\n",
    "    calories = []\n",
    "    for key, val in menu.items():\n",
    "        names.append(key)\n",
    "        v,c = val\n",
    "        values.append(v)\n",
    "        calories.append(c)\n",
    "    return buildMenu(names, values, calories)   "
   ]
  },
  {
   "cell_type": "code",
   "execution_count": 76,
   "metadata": {},
   "outputs": [],
   "source": [
    "class Food(object):\n",
    "    def __init__(self, n, v, w):\n",
    "        self.name = n\n",
    "        self.value = v\n",
    "        self.calories = w\n",
    "        \n",
    "    def getValue(self):\n",
    "        return self.value\n",
    "    \n",
    "    def getCost(self):\n",
    "        return self.calories\n",
    "    \n",
    "    def density(self):\n",
    "        return self.getValue()/self.getCost()\n",
    "    \n",
    "    def __str__(self):\n",
    "        return self.name + \": (\" + str(self.value) + \", \" + str(self.calories) + \")\""
   ]
  },
  {
   "cell_type": "code",
   "execution_count": 77,
   "metadata": {
    "collapsed": true
   },
   "outputs": [],
   "source": [
    "def buildMenu(names, values, calories):\n",
    "    \"\"\"\n",
    "    names, values, calories lists of same length\n",
    "    name a list of strings\n",
    "    values and calories lists of numbers\n",
    "    return list of Foods\n",
    "    \"\"\"\n",
    "    menu = []\n",
    "    for i in range(len(values)):\n",
    "        menu.append(Food(names[i], values[i], calories[i]))\n",
    "    return menu"
   ]
  },
  {
   "cell_type": "code",
   "execution_count": 78,
   "metadata": {
    "collapsed": true
   },
   "outputs": [],
   "source": [
    "def greedy(items, maxCost, keyFn):\n",
    "    \"\"\"\n",
    "    Assumes items a list, maxCost >= 0\n",
    "    keyFn maps elements of items to numbers\n",
    "    \"\"\"\n",
    "    itemsCopy = sorted(items, key = keyFn, reverse = True)             # n log n\n",
    "    result = []\n",
    "    totalValue, totalCost = 0.0, 0.0\n",
    "    for i in range(len(itemsCopy)):                                    # n\n",
    "        if (totalCost + itemsCopy[i].getCost()) <= maxCost:\n",
    "            result.append(itemsCopy[i])\n",
    "            totalValue += itemsCopy[i].getValue()\n",
    "            totalCost += itemsCopy[i].getCost()\n",
    "    return (result, totalValue)                                        # n log n + n < n^2"
   ]
  },
  {
   "cell_type": "code",
   "execution_count": 79,
   "metadata": {
    "collapsed": true
   },
   "outputs": [],
   "source": [
    "def testGreedy(items, constraint, keyFn):\n",
    "    taken, val = greedy(items, constraint, keyFn)\n",
    "    print(\"Total value of items taken: \" + str(val))\n",
    "    for item in taken:\n",
    "        print(\"  \", item)   "
   ]
  },
  {
   "cell_type": "code",
   "execution_count": 80,
   "metadata": {
    "collapsed": true
   },
   "outputs": [],
   "source": [
    "def testAll(maxUnits):\n",
    "    print(\"\\nUse greedy by value to allocate\", maxUnits, \"calories\")\n",
    "    testGreedy(foods, maxUnits, Food.getValue)\n",
    "    \n",
    "    print(\"\\nUse greedy by cost to allocate\", maxUnits, \"calories\")\n",
    "    testGreedy(foods, maxUnits, lambda x: 1/Food.getCost(x))\n",
    "    \n",
    "    print(\"\\nUse greedy by density to allocate\", maxUnits, \"calories\")\n",
    "    testGreedy(foods, maxUnits, Food.density)"
   ]
  },
  {
   "cell_type": "code",
   "execution_count": 85,
   "metadata": {},
   "outputs": [
    {
     "name": "stdout",
     "output_type": "stream",
     "text": [
      "\n",
      "Use greedy by value to allocate 700 calories\n",
      "Total value of items taken: 270.0\n",
      "   beer: (90, 154)\n",
      "   fries: (90, 365)\n",
      "   apple: (90, 95)\n",
      "\n",
      "Use greedy by cost to allocate 700 calories\n",
      "Total value of items taken: 348.0\n",
      "   apple: (90, 95)\n",
      "   wine: (89, 123)\n",
      "   coke: (79, 150)\n",
      "   beer: (90, 154)\n",
      "\n",
      "Use greedy by density to allocate 700 calories\n",
      "Total value of items taken: 348.0\n",
      "   apple: (90, 95)\n",
      "   wine: (89, 123)\n",
      "   beer: (90, 154)\n",
      "   coke: (79, 150)\n"
     ]
    }
   ],
   "source": [
    "foods = makesFoods(menu)\n",
    "testAll(700)"
   ]
  },
  {
   "cell_type": "code",
   "execution_count": 97,
   "metadata": {},
   "outputs": [
    {
     "name": "stdout",
     "output_type": "stream",
     "text": [
      "\n",
      "Use greedy by value to allocate 300 calories\n",
      "Total value of items taken: 180.0\n",
      "   beer: (90, 154)\n",
      "   apple: (90, 95)\n",
      "\n",
      "Use greedy by cost to allocate 300 calories\n",
      "Total value of items taken: 179.0\n",
      "   apple: (90, 95)\n",
      "   wine: (89, 123)\n",
      "\n",
      "Use greedy by density to allocate 300 calories\n",
      "Total value of items taken: 179.0\n",
      "   apple: (90, 95)\n",
      "   wine: (89, 123)\n"
     ]
    }
   ],
   "source": [
    "foods = makesFoods(menu)\n",
    "testAll(300)"
   ]
  },
  {
   "cell_type": "code",
   "execution_count": null,
   "metadata": {
    "collapsed": true
   },
   "outputs": [],
   "source": []
  }
 ],
 "metadata": {
  "kernelspec": {
   "display_name": "Python 3",
   "language": "python",
   "name": "python3"
  },
  "language_info": {
   "codemirror_mode": {
    "name": "ipython",
    "version": 3
   },
   "file_extension": ".py",
   "mimetype": "text/x-python",
   "name": "python",
   "nbconvert_exporter": "python",
   "pygments_lexer": "ipython3",
   "version": "3.6.2"
  }
 },
 "nbformat": 4,
 "nbformat_minor": 2
}
