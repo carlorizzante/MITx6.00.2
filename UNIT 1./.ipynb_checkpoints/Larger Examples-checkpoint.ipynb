{
 "cells": [
  {
   "cell_type": "code",
   "execution_count": 16,
   "metadata": {},
   "outputs": [],
   "source": [
    "import random\n",
    "\n",
    "class Food(object):\n",
    "    def __init__(self, n, v, w):\n",
    "        self.name = n\n",
    "        self.value = v\n",
    "        self.calories = w\n",
    "        \n",
    "    def getValue(self):\n",
    "        return self.value\n",
    "    \n",
    "    def getCost(self):\n",
    "        return self.calories\n",
    "    \n",
    "    def density(self):\n",
    "        return self.getValue()/self.getCost()\n",
    "    \n",
    "    def __str__(self):\n",
    "        return self.name + \": (\" + str(self.value) + \", \" + str(self.calories) + \")\"\n",
    "\n",
    "def buildMenu(items,maxVal,maxCost):\n",
    "    menu = []\n",
    "    for i in range(items):\n",
    "        menu.append(Food(str(i), random.randint(1,maxVal), random.randint(1, maxCost)))\n",
    "    return menu\n",
    "\n",
    "def greedy(items, maxCost, keyFn):\n",
    "    \"\"\"\n",
    "    Assumes items a list, maxCost >= 0\n",
    "    keyFn maps elements of items to numbers\n",
    "    \"\"\"\n",
    "    itemsCopy = sorted(items, key = keyFn, reverse = True)             # n log n\n",
    "    result = []\n",
    "    totalValue, totalCost = 0.0, 0.0\n",
    "    for i in range(len(itemsCopy)):                                    # n\n",
    "        if (totalCost + itemsCopy[i].getCost()) <= maxCost:\n",
    "            result.append(itemsCopy[i])\n",
    "            totalValue += itemsCopy[i].getValue()\n",
    "            totalCost += itemsCopy[i].getCost()\n",
    "    return (result, totalValue)\n",
    "\n",
    "def testGreedy(items, constraint, keyFn):\n",
    "    taken, val = greedy(items, constraint, keyFn)\n",
    "    print(\"Total value of items taken: \" + str(val))\n",
    "    for item in taken:\n",
    "        print(\"  \", item)\n",
    "\n",
    "def testAll(maxUnits):\n",
    "    print(\"\\nUse greedy by value to allocate\", maxUnits, \"calories\")\n",
    "    testGreedy(foods, maxUnits, Food.getValue)\n",
    "    \n",
    "    print(\"\\nUse greedy by cost to allocate\", maxUnits, \"calories\")\n",
    "    testGreedy(foods, maxUnits, lambda x: 1/Food.getCost(x))\n",
    "    \n",
    "    print(\"\\nUse greedy by density to allocate\", maxUnits, \"calories\")\n",
    "    testGreedy(foods, maxUnits, Food.density)\n",
    "    \n",
    "def maxVal(toConsider, avail):\n",
    "    \"\"\"\n",
    "    Assumes toConsider a list of items\n",
    "            avail a weight\n",
    "    Returns a tuple of the total value of a solution to 0/1 knapsack problem\n",
    "    and the items included in the solution.\n",
    "    \"\"\"\n",
    "    if toConsider == [] or avail == 0:\n",
    "        result = (0, ())\n",
    "    elif toConsider[0].getValue() > avail:\n",
    "        result = maxVal(toConsider[1:], avail)\n",
    "    else:\n",
    "        nextItem = toConsider[0]\n",
    "        withVal, withTake = maxVal(toConsider[1:], avail - nextItem.getValue())\n",
    "        withVal += nextItem.getValue()\n",
    "        withoutVal, withoutTake = maxVal(toConsider[1:], avail)\n",
    "        if withVal > withoutVal:\n",
    "            result = (withVal, withTake + (nextItem,))\n",
    "        else:\n",
    "            result = (withoutVal, withoutTake)\n",
    "    return result\n",
    "\n",
    "def fastMaxVal(toConsider, avail):\n",
    "    \"\"\"\n",
    "    Assumes toConsider a list of items\n",
    "            avail a weight\n",
    "    Returns a tuple of the total value of a solution to 0/1 knapsack problem\n",
    "    and the items included in the solution.\n",
    "    \"\"\"\n",
    "    def aux(toConsider, avail, memo):\n",
    "        if (len(toConsider), avail) in memo:\n",
    "            result = memo[(len(toConsider), avail)]\n",
    "        elif toConsider == [] or avail == 0:\n",
    "            result = (0, ())\n",
    "        elif toConsider[0].getValue() > avail:\n",
    "            result = aux(toConsider[1:], avail, memo)\n",
    "        else:\n",
    "            nextItem = toConsider[0]\n",
    "            withVal, withTake = aux(toConsider[1:], avail - nextItem.getValue(), memo)\n",
    "            withVal += nextItem.getValue()\n",
    "            withoutVal, withoutTake = aux(toConsider[1:], avail, memo)\n",
    "            if withVal > withoutVal:\n",
    "                result = (withVal, withTake + (nextItem,))\n",
    "            else:\n",
    "                result = (withoutVal, withoutTake)\n",
    "        memo[(len(toConsider), avail)] = result\n",
    "        return result\n",
    "    return aux(toConsider, avail, {})\n",
    "    \n",
    "def testMaxVal(foods, maxUnits, algorithm, printItems=True):\n",
    "    print(\"Use search tree to allocate\", maxUnits, \"calories over\", len(foods), \"items.\")\n",
    "    val, taken = algorithm(foods, maxUnits)\n",
    "    print(\"      Value\", val, \"taken, over\", len(taken), \"items taken.\")\n",
    "    if printItems:\n",
    "        for item in taken:\n",
    "            print(\"      -\", item)\n",
    "    \n",
    "\n",
    "# buildMenu(10,100,100)"
   ]
  },
  {
   "cell_type": "code",
   "execution_count": 18,
   "metadata": {},
   "outputs": [
    {
     "name": "stdout",
     "output_type": "stream",
     "text": [
      "Use search tree to allocate 750 calories over 5 items.\n",
      "      Value 211 taken, over 5 items taken.\n",
      "Use search tree to allocate 750 calories over 10 items.\n",
      "      Value 439 taken, over 10 items taken.\n",
      "Use search tree to allocate 750 calories over 15 items.\n",
      "      Value 749 taken, over 13 items taken.\n",
      "Use search tree to allocate 750 calories over 20 items.\n",
      "      Value 750 taken, over 16 items taken.\n",
      "Use search tree to allocate 750 calories over 25 items.\n",
      "      Value 750 taken, over 13 items taken.\n"
     ]
    }
   ],
   "source": [
    "# Test maxVal\n",
    "for items in range(5,25+1,5):\n",
    "    menu = buildMenu(items, 90, 250)\n",
    "    testMaxVal(menu, 750, maxVal, False)"
   ]
  },
  {
   "cell_type": "code",
   "execution_count": null,
   "metadata": {},
   "outputs": [
    {
     "name": "stdout",
     "output_type": "stream",
     "text": [
      "Use search tree to allocate 750 calories over 1200 items.\n",
      "      Value 750 taken, over 16 items taken.\n",
      "Use search tree to allocate 750 calories over 1205 items.\n",
      "      Value 750 taken, over 13 items taken.\n",
      "Use search tree to allocate 750 calories over 1210 items.\n",
      "      Value 750 taken, over 16 items taken.\n",
      "Use search tree to allocate 750 calories over 1215 items.\n"
     ]
    }
   ],
   "source": [
    "# Test fastMaxVal\n",
    "for items in range(1200,1225+1,5):\n",
    "    menu = buildMenu(items, 90, 250)\n",
    "    testMaxVal(menu, 750, fastMaxVal, False)"
   ]
  },
  {
   "cell_type": "code",
   "execution_count": 21,
   "metadata": {},
   "outputs": [
    {
     "data": {
      "text/plain": [
       "2000"
      ]
     },
     "execution_count": 21,
     "metadata": {},
     "output_type": "execute_result"
    }
   ],
   "source": [
    "import sys\n",
    "sys.getrecursionlimit()\n",
    "# sys.setrecursionlimit(4000)"
   ]
  },
  {
   "cell_type": "code",
   "execution_count": null,
   "metadata": {
    "collapsed": true
   },
   "outputs": [],
   "source": []
  }
 ],
 "metadata": {
  "kernelspec": {
   "display_name": "Python 3",
   "language": "python",
   "name": "python3"
  },
  "language_info": {
   "codemirror_mode": {
    "name": "ipython",
    "version": 3
   },
   "file_extension": ".py",
   "mimetype": "text/x-python",
   "name": "python",
   "nbconvert_exporter": "python",
   "pygments_lexer": "ipython3",
   "version": "3.6.2"
  }
 },
 "nbformat": 4,
 "nbformat_minor": 2
}
