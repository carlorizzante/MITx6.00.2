{
 "cells": [
  {
   "cell_type": "code",
   "execution_count": 24,
   "metadata": {
    "collapsed": true
   },
   "outputs": [],
   "source": [
    "def fib(n):\n",
    "    if n <= 1:\n",
    "        return n\n",
    "    else:\n",
    "        return fib(n-1) + fib(n-2)\n",
    "\n",
    "def fibGen():\n",
    "    n1 = 1 # fib(n-1)\n",
    "    n2 = 0 # fib(n-2)\n",
    "    yield n2 # returns 0\n",
    "    yield n1 # returns 1\n",
    "    while True:\n",
    "        _next = n1 + n2\n",
    "        yield _next\n",
    "        n2 = n1\n",
    "        n1 = _next"
   ]
  },
  {
   "cell_type": "code",
   "execution_count": 25,
   "metadata": {},
   "outputs": [
    {
     "name": "stdout",
     "output_type": "stream",
     "text": [
      "0 0\n",
      "1 1\n",
      "1 1\n",
      "2 2\n",
      "3 3\n",
      "5 5\n",
      "8 8\n",
      "13 13\n",
      "21 21\n",
      "34 34\n",
      "55 55\n",
      "89 89\n"
     ]
    }
   ],
   "source": [
    "fg = fibGen()\n",
    "for i in range(12):\n",
    "    print(fib(i), fg.__next__())"
   ]
  },
  {
   "cell_type": "code",
   "execution_count": 26,
   "metadata": {
    "collapsed": true
   },
   "outputs": [],
   "source": [
    "def fibGen():\n",
    "    n0 = 0\n",
    "    n1 = 1\n",
    "    yield n0\n",
    "    yield n1\n",
    "    while True:\n",
    "        n2 = n0 + n1\n",
    "        yield n2\n",
    "        n0 = n1\n",
    "        n1 = n2"
   ]
  },
  {
   "cell_type": "code",
   "execution_count": 28,
   "metadata": {},
   "outputs": [
    {
     "name": "stdout",
     "output_type": "stream",
     "text": [
      "0\n",
      "1\n",
      "1\n",
      "2\n",
      "3\n",
      "5\n",
      "8\n",
      "13\n",
      "21\n",
      "34\n",
      "55\n",
      "89\n"
     ]
    }
   ],
   "source": [
    "f = fibGen()\n",
    "for i in range(12):\n",
    "    print(f.__next__())"
   ]
  },
  {
   "cell_type": "code",
   "execution_count": 37,
   "metadata": {},
   "outputs": [
    {
     "name": "stdout",
     "output_type": "stream",
     "text": [
      "count: 1200000\n"
     ]
    }
   ],
   "source": [
    "f = fibGen()\n",
    "count = 0\n",
    "for i in range(1200000):\n",
    "    n = f.__next__()\n",
    "    count += 1\n",
    "print(\"count:\", count, \"n:\", n)"
   ]
  },
  {
   "cell_type": "code",
   "execution_count": null,
   "metadata": {
    "collapsed": true
   },
   "outputs": [],
   "source": []
  }
 ],
 "metadata": {
  "kernelspec": {
   "display_name": "Python 3",
   "language": "python",
   "name": "python3"
  },
  "language_info": {
   "codemirror_mode": {
    "name": "ipython",
    "version": 3
   },
   "file_extension": ".py",
   "mimetype": "text/x-python",
   "name": "python",
   "nbconvert_exporter": "python",
   "pygments_lexer": "ipython3",
   "version": "3.6.2"
  }
 },
 "nbformat": 4,
 "nbformat_minor": 2
}
