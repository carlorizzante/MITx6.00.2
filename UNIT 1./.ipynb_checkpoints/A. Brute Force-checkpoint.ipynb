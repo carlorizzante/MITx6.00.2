{
 "cells": [
  {
   "cell_type": "code",
   "execution_count": 11,
   "metadata": {
    "collapsed": true
   },
   "outputs": [],
   "source": [
    "def maxVal(toConsider, avail):\n",
    "    \"\"\"\n",
    "    Assumes toConsider a list of items\n",
    "            avail a weight\n",
    "    Returns a tuple of the total value of a solution to 0/1 knapsack problem\n",
    "    and the items included in the solution.\n",
    "    \"\"\"\n",
    "    if toConsider == [] or avail == 0:\n",
    "        result = (0, ())\n",
    "    elif toConsider[0].getUnits() > avail:\n",
    "        result = maxVal(toConsider[1:], avail)\n",
    "    else:\n",
    "        nextItem = toConsider[0]\n",
    "        withVal, withTake = maxVal(toConsider[1:], avail - nextItem.getUnits())\n",
    "        withVal += nextItem.getValue()\n",
    "        withoutVal, withoutTake = maxVal(toConsider[1:], avail)\n",
    "        if withVal > withoutVal:\n",
    "            result = (withVal, withTake + (nextItem,))\n",
    "        else:\n",
    "            result = (withoutVal, withoutTake)\n",
    "    return result        "
   ]
  },
  {
   "cell_type": "code",
   "execution_count": 12,
   "metadata": {
    "collapsed": true
   },
   "outputs": [],
   "source": [
    "menu = {\n",
    "    \"wine\" : (89, 123),\n",
    "    \"beer\" : (90, 154),\n",
    "    \"pizza\" : (30, 258),\n",
    "    \"burger\" : (50, 354),\n",
    "    \"fries\" : (90, 365),\n",
    "    \"coke\" : (79, 150),\n",
    "    \"apple\" : (90, 95),\n",
    "    \"dobnut\" : (10, 195)\n",
    "}\n",
    "\n",
    "def makesFoods(menu):\n",
    "    names = []\n",
    "    values = []\n",
    "    calories = []\n",
    "    for key, val in menu.items():\n",
    "        names.append(key)\n",
    "        v,c = val\n",
    "        values.append(v)\n",
    "        calories.append(c)\n",
    "    return buildMenu(names, values, calories)   "
   ]
  },
  {
   "cell_type": "code",
   "execution_count": 25,
   "metadata": {
    "collapsed": true
   },
   "outputs": [],
   "source": [
    "class Food(object):\n",
    "    def __init__(self, n, v, w):\n",
    "        self.name = n\n",
    "        self.value = v\n",
    "        self.calories = w\n",
    "        \n",
    "    def getValue(self):\n",
    "        return self.value\n",
    "    \n",
    "    def getUnits(self):\n",
    "        return self.calories\n",
    "    \n",
    "    def density(self):\n",
    "        return self.getValue()/self.getCost()\n",
    "    \n",
    "    def __str__(self):\n",
    "        return self.name + \": (\" + str(self.value) + \", \" + str(self.calories) + \")\""
   ]
  },
  {
   "cell_type": "code",
   "execution_count": 26,
   "metadata": {
    "collapsed": true
   },
   "outputs": [],
   "source": [
    "def buildMenu(names, values, calories):\n",
    "    \"\"\" Assumes names, values, calories lists of same length;\n",
    "        name a list of strings;\n",
    "        values and calories lists of numbers.\n",
    "        Return a list of Foods.\n",
    "    \"\"\"\n",
    "    menu = []\n",
    "    for i in range(len(values)):\n",
    "        menu.append(Food(names[i], values[i], calories[i]))\n",
    "    return menu"
   ]
  },
  {
   "cell_type": "code",
   "execution_count": 33,
   "metadata": {},
   "outputs": [
    {
     "name": "stdout",
     "output_type": "stream",
     "text": [
      "Value taken: 359\n",
      "apple: (90, 95)\n",
      "fries: (90, 365)\n",
      "beer: (90, 154)\n",
      "wine: (89, 123)\n"
     ]
    }
   ],
   "source": [
    "foods = makesFoods(menu)\n",
    "value, items = maxVal(foods, 750)\n",
    "print(\"Value taken:\", value)\n",
    "for item in items:\n",
    "    print(item)"
   ]
  },
  {
   "cell_type": "code",
   "execution_count": null,
   "metadata": {
    "collapsed": true
   },
   "outputs": [],
   "source": []
  },
  {
   "cell_type": "code",
   "execution_count": null,
   "metadata": {
    "collapsed": true
   },
   "outputs": [],
   "source": []
  }
 ],
 "metadata": {
  "kernelspec": {
   "display_name": "Python 3",
   "language": "python",
   "name": "python3"
  },
  "language_info": {
   "codemirror_mode": {
    "name": "ipython",
    "version": 3
   },
   "file_extension": ".py",
   "mimetype": "text/x-python",
   "name": "python",
   "nbconvert_exporter": "python",
   "pygments_lexer": "ipython3",
   "version": "3.6.2"
  }
 },
 "nbformat": 4,
 "nbformat_minor": 2
}
