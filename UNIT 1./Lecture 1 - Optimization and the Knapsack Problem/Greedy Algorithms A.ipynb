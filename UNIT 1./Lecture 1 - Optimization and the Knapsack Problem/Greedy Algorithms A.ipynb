{
 "cells": [
  {
   "cell_type": "code",
   "execution_count": 75,
   "metadata": {},
   "outputs": [],
   "source": [
    "menu = {\n",
    "    \"wine\" : (89, 123),\n",
    "    \"beer\" : (90, 154),\n",
    "    \"pizza\" : (30, 258),\n",
    "    \"burger\" : (50, 354),\n",
    "    \"fries\" : (90, 365),\n",
    "    \"coke\" : (79, 150),\n",
    "    \"apple\" : (90, 95),\n",
    "    \"dobnut\" : (10, 195)\n",
    "}\n",
    "\n",
    "def makesFoods(menu):\n",
    "    names = []\n",
    "    values = []\n",
    "    calories = []\n",
    "    for key, val in menu.items():\n",
    "        names.append(key)\n",
    "        v,c = val\n",
    "        values.append(v)\n",
    "        calories.append(c)\n",
    "    return buildMenu(names, values, calories)   "
   ]
  },
  {
   "cell_type": "code",
   "execution_count": 76,
   "metadata": {},
   "outputs": [],
   "source": [
    "class Food(object):\n",
    "    def __init__(self, n, v, w):\n",
    "        self.name = n\n",
    "        self.value = v\n",
    "        self.calories = w\n",
    "        \n",
    "    def getValue(self):\n",
    "        return self.value\n",
    "    \n",
    "    def getCost(self):\n",
    "        return self.calories\n",
    "    \n",
    "    def density(self):\n",
    "        return self.getValue()/self.getCost()\n",
    "    \n",
    "    def __str__(self):\n",
    "        return self.name + \": (\" + str(self.value) + \", \" + str(self.calories) + \")\""
   ]
  },
  {
   "cell_type": "code",
   "execution_count": 77,
   "metadata": {
    "collapsed": true
   },
   "outputs": [],
   "source": [
    "def buildMenu(names, values, calories):\n",
    "    \"\"\"\n",
    "    names, values, calories lists of same length\n",
    "    name a list of strings\n",
    "    values and calories lists of numbers\n",
    "    return list of Foods\n",
    "    \"\"\"\n",
    "    menu = []\n",
    "    for i in range(len(values)):\n",
    "        menu.append(Food(names[i], values[i], calories[i]))\n",
    "    return menu"
   ]
  },
  {
   "cell_type": "code",
   "execution_count": 115,
   "metadata": {
    "collapsed": true
   },
   "outputs": [],
   "source": [
    "def maxVal(toConsider, avail):\n",
    "    \"\"\"\n",
    "    Assumes toConsider a list of items\n",
    "            avail a weight\n",
    "    Returns a tuple of the total value of a solution to 0/1 knapsack problem\n",
    "    and the items included in the solution.\n",
    "    \"\"\"\n",
    "    if toConsider == [] or avail == 0:\n",
    "        result = (0,())\n",
    "    elif toConsider[0].getCost() > avail:\n",
    "        result = maxVal(toConsider[1:], avail)\n",
    "    else:\n",
    "        nextItem = toConsider[0]\n",
    "        withVal, withToTake = maxVal(toConsider[1:], avail - nextItem.getCost())\n",
    "        withVal += nextItem.getValue()\n",
    "        withoutVal, withoutToTake = maxVal(toConsider[1:], avail)\n",
    "        if withVal > withoutVal:\n",
    "            result = (withVal, withToTake + (nextItem,))\n",
    "        else:\n",
    "            result = (withoutVal, withoutToTake)\n",
    "    return result"
   ]
  },
  {
   "cell_type": "code",
   "execution_count": 116,
   "metadata": {
    "collapsed": true
   },
   "outputs": [],
   "source": [
    "def greedy(items, maxCost, keyFn):\n",
    "    \"\"\"\n",
    "    Assumes items a list, maxCost >= 0\n",
    "    keyFn maps elements of items to numbers\n",
    "    \"\"\"\n",
    "    itemsCopy = sorted(items, key = keyFn, reverse = True)             # n log n\n",
    "    result = []\n",
    "    totalValue, totalCost = 0.0, 0.0\n",
    "    for i in range(len(itemsCopy)):                                    # n\n",
    "        if (totalCost + itemsCopy[i].getCost()) <= maxCost:\n",
    "            result.append(itemsCopy[i])\n",
    "            totalValue += itemsCopy[i].getValue()\n",
    "            totalCost += itemsCopy[i].getCost()\n",
    "    return (result, totalValue)                                        # n log n + n < n^2"
   ]
  },
  {
   "cell_type": "code",
   "execution_count": 117,
   "metadata": {
    "collapsed": true
   },
   "outputs": [],
   "source": [
    "def testGreedy(items, constraint, keyFn):\n",
    "    taken, val = greedy(items, constraint, keyFn)\n",
    "    print(\"Total value of items taken: \" + str(val))\n",
    "    for item in taken:\n",
    "        print(\"  \", item)"
   ]
  },
  {
   "cell_type": "code",
   "execution_count": 140,
   "metadata": {
    "collapsed": true
   },
   "outputs": [],
   "source": [
    "def testAll(maxUnits):\n",
    "    print(\"\\nUse maxVal\", maxUnits, \"calories\")\n",
    "    result, taken = maxVal(foods, maxUnits)\n",
    "    print(\"Total value of items taken: \" + str(result))\n",
    "    for item in taken:\n",
    "        print(\"  \", item)\n",
    "    \n",
    "    print(\"\\nUse greedy by value to allocate\", maxUnits, \"calories\")\n",
    "    testGreedy(foods, maxUnits, Food.getValue)\n",
    "    \n",
    "    print(\"\\nUse greedy by cost to allocate\", maxUnits, \"calories\")\n",
    "    testGreedy(foods, maxUnits, lambda x: 1/Food.getCost(x))\n",
    "    \n",
    "    print(\"\\nUse greedy by density to allocate\", maxUnits, \"calories\")\n",
    "    testGreedy(foods, maxUnits, Food.density)"
   ]
  },
  {
   "cell_type": "code",
   "execution_count": 148,
   "metadata": {},
   "outputs": [
    {
     "name": "stdout",
     "output_type": "stream",
     "text": [
      "\n",
      "Use maxVal 490 calories\n",
      "Total value of items taken: 269\n",
      "   apple: (90, 95)\n",
      "   beer: (90, 154)\n",
      "   wine: (89, 123)\n",
      "\n",
      "Use greedy by value to allocate 490 calories\n",
      "Total value of items taken: 269.0\n",
      "   beer: (90, 154)\n",
      "   apple: (90, 95)\n",
      "   wine: (89, 123)\n",
      "\n",
      "Use greedy by cost to allocate 490 calories\n",
      "Total value of items taken: 258.0\n",
      "   apple: (90, 95)\n",
      "   wine: (89, 123)\n",
      "   coke: (79, 150)\n",
      "\n",
      "Use greedy by density to allocate 490 calories\n",
      "Total value of items taken: 269.0\n",
      "   apple: (90, 95)\n",
      "   wine: (89, 123)\n",
      "   beer: (90, 154)\n"
     ]
    }
   ],
   "source": [
    "foods = makesFoods(menu)\n",
    "testAll(490)"
   ]
  },
  {
   "cell_type": "code",
   "execution_count": 133,
   "metadata": {},
   "outputs": [
    {
     "name": "stdout",
     "output_type": "stream",
     "text": [
      "\n",
      "Use greedy by value to allocate 750 calories\n",
      "Total value of items taken: 359.0\n",
      "   beer: (90, 154)\n",
      "   fries: (90, 365)\n",
      "   apple: (90, 95)\n",
      "   wine: (89, 123)\n",
      "\n",
      "Use greedy by cost to allocate 750 calories\n",
      "Total value of items taken: 358.0\n",
      "   apple: (90, 95)\n",
      "   wine: (89, 123)\n",
      "   coke: (79, 150)\n",
      "   beer: (90, 154)\n",
      "   dobnut: (10, 195)\n",
      "\n",
      "Use greedy by density to allocate 750 calories\n",
      "Total value of items taken: 358.0\n",
      "   apple: (90, 95)\n",
      "   wine: (89, 123)\n",
      "   beer: (90, 154)\n",
      "   coke: (79, 150)\n",
      "   dobnut: (10, 195)\n",
      "\n",
      "Use maxVal 750 calories\n",
      "359\n"
     ]
    }
   ],
   "source": [
    "foods = makesFoods(menu)\n",
    "testAll(750)"
   ]
  },
  {
   "cell_type": "code",
   "execution_count": null,
   "metadata": {
    "collapsed": true
   },
   "outputs": [],
   "source": []
  }
 ],
 "metadata": {
  "kernelspec": {
   "display_name": "Python 3",
   "language": "python",
   "name": "python3"
  },
  "language_info": {
   "codemirror_mode": {
    "name": "ipython",
    "version": 3
   },
   "file_extension": ".py",
   "mimetype": "text/x-python",
   "name": "python",
   "nbconvert_exporter": "python",
   "pygments_lexer": "ipython3",
   "version": "3.6.2"
  }
 },
 "nbformat": 4,
 "nbformat_minor": 2
}
