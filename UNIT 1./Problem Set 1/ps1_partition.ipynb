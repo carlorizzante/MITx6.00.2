{
 "cells": [
  {
   "cell_type": "code",
   "execution_count": 1,
   "metadata": {
    "collapsed": true
   },
   "outputs": [],
   "source": [
    "# From codereview.stackexchange.com                    \n",
    "def partitions(set_):\n",
    "    if not set_:\n",
    "        yield []\n",
    "        return\n",
    "    for i in range(2**len(set_)//2):\n",
    "        parts = [set(), set()]\n",
    "        for item in set_:\n",
    "            parts[i&1].add(item)\n",
    "            i >>= 1\n",
    "        for b in partitions(parts[1]):\n",
    "            yield [parts[0]]+b\n",
    "\n",
    "\n",
    "# This is a helper function that will fetch all of the available \n",
    "# partitions for you to use for your brute force algorithm.\n",
    "def get_partitions(set_):\n",
    "    for partition in partitions(set_):\n",
    "        yield [list(elt) for elt in partition]\n",
    "\n",
    "### Uncomment the following code  and run this file\n",
    "### to see what get_partitions does if you want to visualize it:\n",
    "\n",
    "#for item in (get_partitions(['a','b','c','d'])):\n",
    "#     print(item)"
   ]
  },
  {
   "cell_type": "code",
   "execution_count": 2,
   "metadata": {},
   "outputs": [
    {
     "name": "stdout",
     "output_type": "stream",
     "text": [
      "[['a', 'd', 'c', 'b']]\n",
      "[['c', 'd', 'b'], ['a']]\n",
      "[['a', 'd', 'c'], ['b']]\n",
      "[['c', 'd'], ['a', 'b']]\n",
      "[['c', 'd'], ['b'], ['a']]\n",
      "[['a', 'd', 'b'], ['c']]\n",
      "[['d', 'b'], ['a', 'c']]\n",
      "[['d', 'b'], ['c'], ['a']]\n",
      "[['a', 'd'], ['c', 'b']]\n",
      "[['a', 'd'], ['b'], ['c']]\n",
      "[['d'], ['a', 'c', 'b']]\n",
      "[['d'], ['c', 'b'], ['a']]\n",
      "[['d'], ['a', 'b'], ['c']]\n",
      "[['d'], ['b'], ['a', 'c']]\n",
      "[['d'], ['b'], ['c'], ['a']]\n"
     ]
    }
   ],
   "source": [
    "for item in (get_partitions(['a','b','c','d'])):\n",
    "    print(item)"
   ]
  },
  {
   "cell_type": "code",
   "execution_count": null,
   "metadata": {
    "collapsed": true
   },
   "outputs": [],
   "source": []
  }
 ],
 "metadata": {
  "kernelspec": {
   "display_name": "Python 3",
   "language": "python",
   "name": "python3"
  },
  "language_info": {
   "codemirror_mode": {
    "name": "ipython",
    "version": 3
   },
   "file_extension": ".py",
   "mimetype": "text/x-python",
   "name": "python",
   "nbconvert_exporter": "python",
   "pygments_lexer": "ipython3",
   "version": "3.6.2"
  }
 },
 "nbformat": 4,
 "nbformat_minor": 2
}
