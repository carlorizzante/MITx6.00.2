{
 "cells": [
  {
   "cell_type": "code",
   "execution_count": 210,
   "metadata": {},
   "outputs": [
    {
     "name": "stdout",
     "output_type": "stream",
     "text": [
      "{'Maggie': 3, 'Herman': 7, 'Betsy': 9, 'Oreo': 6, 'Moo Moo': 3, 'Milkshake': 2, 'Millie': 5, 'Lola': 2, 'Florence': 2, 'Henrietta': 9}\n",
      "\n",
      "Solution: [['Henrietta'], ['Moo Moo', 'Milkshake', 'Millie'], ['Lola', 'Oreo', 'Florence'], ['Herman', 'Maggie'], ['Betsy']]\n",
      "\n",
      "Solution breakdown:\n",
      "   9  .  ['Henrietta']\n",
      "   10  .  ['Moo Moo', 'Milkshake', 'Millie']\n",
      "   10  .  ['Lola', 'Oreo', 'Florence']\n",
      "   10  .  ['Herman', 'Maggie']\n",
      "   9  .  ['Betsy']\n"
     ]
    }
   ],
   "source": [
    "###########################\n",
    "# 6.00.2x Problem Set 1: Space Cows \n",
    "\n",
    "from ps1_partition import get_partitions\n",
    "import time\n",
    "\n",
    "#================================\n",
    "# Part A: Transporting Space Cows\n",
    "#================================\n",
    "\n",
    "def load_cows(filename):\n",
    "    \"\"\"\n",
    "    Read the contents of the given file.  Assumes the file contents contain\n",
    "    data in the form of comma-separated cow name, weight pairs, and return a\n",
    "    dictionary containing cow names as keys and corresponding weights as values.\n",
    "\n",
    "    Parameters:\n",
    "    filename - the name of the data file as a string\n",
    "\n",
    "    Returns:\n",
    "    a dictionary of cow name (string), weight (int) pairs\n",
    "    \"\"\"\n",
    "\n",
    "    cow_dict = dict()\n",
    "\n",
    "    f = open(filename, 'r')\n",
    "    \n",
    "    for line in f:\n",
    "        line_data = line.split(',')\n",
    "        cow_dict[line_data[0]] = int(line_data[1])\n",
    "    return cow_dict\n",
    "\n",
    "\n",
    "def partitions(set_):\n",
    "    if not set_:\n",
    "        yield []\n",
    "        return\n",
    "    for i in range(2**len(set_)//2):\n",
    "        parts = [set(), set()]\n",
    "        for item in set_:\n",
    "            parts[i&1].add(item)\n",
    "            i >>= 1\n",
    "        for b in partitions(parts[1]):\n",
    "            yield [parts[0]]+b\n",
    "\n",
    "\n",
    "def get_partitions(set_):\n",
    "    for partition in partitions(set_):\n",
    "        yield [list(elt) for elt in partition]\n",
    "\n",
    "\n",
    "def greedy_cow_transport_first_iteration(cows, limit=10):\n",
    "    trips = []\n",
    "    cows_list = []\n",
    "    available = limit\n",
    "    for name,weight in cows.items():\n",
    "        cows_list.append((weight, name))\n",
    "    cows = sorted(cows_list, reverse=True)\n",
    "    while cows:\n",
    "        remove = []\n",
    "        trips.append([]) # new trip\n",
    "        for cow in cows:\n",
    "            if cow[0] <= available:\n",
    "                trips[-1].extend([cow[1]])\n",
    "                available -= cow[0]\n",
    "                remove.append(cow)\n",
    "        # reset available weight\n",
    "        available = limit\n",
    "        # remove allocated cows\n",
    "        for cow in remove:\n",
    "            cows.remove(cow)\n",
    "    return trips # removes last empty trip\n",
    "\n",
    "\n",
    "def greedy_cow_transport_second_iteration(cows, limit=10):\n",
    "    trips, remove, available = [], [], limit\n",
    "    # Make a list of cows, sort by weight (that's why weight first, name second)\n",
    "    cows = sorted([(weight, name) for name, weight in cows.items()], reverse=True)\n",
    "    while cows:\n",
    "        trips.append([cows[0][1]]) # Allocate heaviest cow on a new trip\n",
    "        available -= cows[0][0]    # Adjust available weight accordingly\n",
    "        cows.remove(cows[0])       # Remove this cow from future loops\n",
    "        for cow in cows:           # Loop through all remaiing cows\n",
    "            if available > 0 and cow[0] <= available:\n",
    "                trips[-1].extend([cow[1]])\n",
    "                available -= cow[0]\n",
    "                remove.append(cow)\n",
    "        for cow in remove:\n",
    "            cows.remove(cow)       # Skip allocated cows from future loops\n",
    "        available, remove = limit, [] # Reset working vars\n",
    "    return trips\n",
    "\n",
    "\n",
    "def greedy_cow_transport_third_iteration(cows, limit=10):\n",
    "    trips, available = [], limit\n",
    "    # Make a list of cows, sort by weight in ascending fashion (lightest first)\n",
    "    cows = sorted([(weight, name) for name, weight in cows.items()])\n",
    "    while cows:                     # Loop through available cows\n",
    "        trips.append([cows[-1][1]]) # Allocate heaviest cow on a new trip\n",
    "        available -= cows[-1][0]    # Adjust available weight accordingly\n",
    "        cows.remove(cows[-1])       # Remove this cow from future loops\n",
    "        i = len(cows) - 1           # Reset index\n",
    "        while i >= 0:               # Loop back through all remaiing cows\n",
    "            if available > 0 and cows[i][0] <= available:\n",
    "                trips[-1].append(cows[i][1])  # Allocate this cow!\n",
    "                available -= cows[i][0]       # adjust available weight\n",
    "                cows.remove(cows[i])          # Remove it from future loops\n",
    "            i -= 1                  # Avoid infinite loops\n",
    "        available = limit           # Reset available weight for next trip\n",
    "    return trips                    # Returns solution\n",
    "\n",
    "\n",
    "# Problem 1\n",
    "def greedy_cow_transport(cows,limit=10):\n",
    "    \"\"\"\n",
    "    Uses a greedy heuristic to determine an allocation of cows that attempts to\n",
    "    minimize the number of spaceship trips needed to transport all the cows. The\n",
    "    returned allocation of cows may or may not be optimal.\n",
    "    The greedy heuristic should follow the following method:\n",
    "\n",
    "    1. As long as the current trip can fit another cow, add the largest cow that will fit\n",
    "        to the trip\n",
    "    2. Once the trip is full, begin a new trip to transport the remaining cows\n",
    "\n",
    "    Does not mutate the given dictionary of cows.\n",
    "\n",
    "    Parameters:\n",
    "    cows - a dictionary of name (string), weight (int) pairs\n",
    "    limit - weight limit of the spaceship (an int)\n",
    "    \n",
    "    Returns:\n",
    "    A list of lists, with each inner list containing the names of cows\n",
    "    transported on a particular trip and the overall list containing all the\n",
    "    trips\n",
    "    \"\"\"\n",
    "    return greedy_cow_transport_third_iteration(cows,limit)\n",
    "    \n",
    "\n",
    "# Problem 2\n",
    "def brute_force_cow_transport(cows,limit=10):\n",
    "    \"\"\"\n",
    "    Finds the allocation of cows that minimizes the number of spaceship trips\n",
    "    via brute force.  The brute force algorithm should follow the following method:\n",
    "\n",
    "    1. Enumerate all possible ways that the cows can be divided into separate trips\n",
    "    2. Select the allocation that minimizes the number of trips without making any trip\n",
    "        that does not obey the weight limitation\n",
    "            \n",
    "    Does not mutate the given dictionary of cows.\n",
    "\n",
    "    Parameters:\n",
    "    cows - a dictionary of name (string), weight (int) pairs\n",
    "    limit - weight limit of the spaceship (an int)\n",
    "    \n",
    "    Returns:\n",
    "    A list of lists, with each inner list containing the names of cows\n",
    "    transported on a particular trip and the overall list containing all the\n",
    "    trips\n",
    "    \"\"\"\n",
    "    partitions = [partition for partition in get_partitions(cows)]\n",
    "    optimal = (None, len(cows) + 1)            # Optimal solution, max number of trips\n",
    "    for partition in partitions:               # Loop through all possible options/partitions\n",
    "        if len(partition) < optimal[1]:        # Take only shorter solutions than optimal\n",
    "            valid = True                       # Let's assume this is a valid solution\n",
    "            for trip in partition:             # Loop through each single trip\n",
    "                if valid and sum([cows[name] for name in trip]) > limit:\n",
    "                    valid = False              # Nope... trip exceeds limit\n",
    "                    break                      # Break! Get out of the for loop\n",
    "            if valid == True:                  # If still valid we have a new solution!\n",
    "                optimal = (partition, len(partition))\n",
    "    return optimal[0]                          # Finally return optimal solution\n",
    "\n",
    "        \n",
    "# Problem 3\n",
    "def compare_cow_transport_algorithms():\n",
    "    \"\"\"\n",
    "    Using the data from ps1_cow_data.txt and the specified weight limit, run your\n",
    "    greedy_cow_transport and brute_force_cow_transport functions here. Use the\n",
    "    default weight limits of 10 for both greedy_cow_transport and\n",
    "    brute_force_cow_transport.\n",
    "    \n",
    "    Print out the number of trips returned by each method, and how long each\n",
    "    method takes to run in seconds.\n",
    "\n",
    "    Returns:\n",
    "    Does not return anything.\n",
    "    \"\"\"\n",
    "    # TODO: Your code here\n",
    "    pass\n",
    "\n",
    "\n",
    "\"\"\"\n",
    "Here is some test data for you to see the results of your algorithms with. \n",
    "Do not submit this along with any of your answers. Uncomment the last two\n",
    "lines to print the result of your problem.\n",
    "\"\"\"\n",
    "\n",
    "cows = load_cows(\"ps1_cow_data.txt\")\n",
    "# greedy_cow_transport(cows,10)\n",
    "print(cows)\n",
    "solution = brute_force_cow_transport(cows)\n",
    "print(\"\\nSolution:\", solution)\n",
    "print(\"\\nSolution breakdown:\")\n",
    "for trip in solution:\n",
    "    print(\"  \", sum([cows[name] for name in trip]), \" . \", trip)"
   ]
  },
  {
   "cell_type": "code",
   "execution_count": 201,
   "metadata": {},
   "outputs": [
    {
     "data": {
      "text/plain": [
       "[['Henrietta'],\n",
       " ['Moo Moo', 'Milkshake', 'Millie'],\n",
       " ['Lola', 'Oreo', 'Florence'],\n",
       " ['Herman', 'Maggie'],\n",
       " ['Betsy']]"
      ]
     },
     "execution_count": 201,
     "metadata": {},
     "output_type": "execute_result"
    }
   ],
   "source": [
    "brute_force_cow_transport(cows)"
   ]
  },
  {
   "cell_type": "code",
   "execution_count": 117,
   "metadata": {},
   "outputs": [
    {
     "name": "stdout",
     "output_type": "stream",
     "text": [
      "True\n",
      "True\n",
      "True\n",
      "True\n"
     ]
    }
   ],
   "source": [
    "print(greedy_cow_transport(cows,10) == [['Henrietta'], ['Betsy'], ['Herman', 'Moo Moo'], ['Oreo', 'Maggie'], ['Millie', 'Milkshake', 'Lola'], ['Florence']])\n",
    "print(greedy_cow_transport({'Muscles': 65, 'Louis': 45, 'Milkshake': 75, 'Polaris': 20, 'Lotus': 10, 'Patches': 60, 'Horns': 50, 'Miss Bella': 15, 'Clover': 5, 'MooMoo': 85}, 100) == [['MooMoo', 'Miss Bella'], ['Milkshake', 'Polaris', 'Clover'], ['Muscles', 'Lotus'], ['Patches'], ['Horns', 'Louis']])\n",
    "print(greedy_cow_transport({'Rose': 50, 'Coco': 10, 'Abby': 38, 'Dottie': 85, 'Betsy': 65, 'Patches': 12, 'Lilly': 24, 'Buttercup': 72, 'Daisy': 50, 'Willow': 35}, 100) == [['Dottie', 'Patches'], ['Buttercup', 'Lilly'], ['Betsy', 'Willow'], ['Rose', 'Daisy'], ['Abby', 'Coco']])\n",
    "print(greedy_cow_transport({'Rose': 42, 'Coco': 59, 'Abby': 28, 'Luna': 41, 'Betsy': 39, 'Buttercup': 11, 'Willow': 59, 'Starlight': 54}, 120) == [['Willow', 'Coco'], ['Starlight', 'Rose', 'Buttercup'], ['Luna', 'Betsy', 'Abby']])"
   ]
  },
  {
   "cell_type": "code",
   "execution_count": 228,
   "metadata": {},
   "outputs": [
    {
     "name": "stdout",
     "output_type": "stream",
     "text": [
      "False\n",
      "False\n",
      "False\n"
     ]
    }
   ],
   "source": [
    "print(brute_force_cow_transport({'Boo': 20, 'Lotus': 40, 'Miss Bella': 25, 'Milkshake': 40, 'Horns': 25, 'MooMoo': 50}, 100) == [['Milkshake', 'Boo', 'Lotus'], ['Horns', 'MooMoo', 'Miss Bella']])\n",
    "print(brute_force_cow_transport({'Daisy': 50, 'Betsy': 65, 'Buttercup': 72}, 75) == [['Daisy'], ['Buttercup'], ['Betsy']])\n",
    "print(brute_force_cow_transport({'Luna': 41, 'Betsy': 39, 'Starlight': 54, 'Buttercup': 11}, 145) == [['Betsy', 'Luna', 'Starlight', 'Buttercup']])"
   ]
  },
  {
   "cell_type": "code",
   "execution_count": 231,
   "metadata": {},
   "outputs": [
    {
     "ename": "TypeError",
     "evalue": "unhashable type: 'list'",
     "output_type": "error",
     "traceback": [
      "\u001b[0;31m---------------------------------------------------------------------------\u001b[0m",
      "\u001b[0;31mTypeError\u001b[0m                                 Traceback (most recent call last)",
      "\u001b[0;32m<ipython-input-231-540995424158>\u001b[0m in \u001b[0;36m<module>\u001b[0;34m()\u001b[0m\n\u001b[0;32m----> 1\u001b[0;31m \u001b[0mset\u001b[0m\u001b[0;34m(\u001b[0m\u001b[0mbrute_force_cow_transport\u001b[0m\u001b[0;34m(\u001b[0m\u001b[0;34m{\u001b[0m\u001b[0;34m'Luna'\u001b[0m\u001b[0;34m:\u001b[0m \u001b[0;36m41\u001b[0m\u001b[0;34m,\u001b[0m \u001b[0;34m'Betsy'\u001b[0m\u001b[0;34m:\u001b[0m \u001b[0;36m39\u001b[0m\u001b[0;34m,\u001b[0m \u001b[0;34m'Starlight'\u001b[0m\u001b[0;34m:\u001b[0m \u001b[0;36m54\u001b[0m\u001b[0;34m,\u001b[0m \u001b[0;34m'Buttercup'\u001b[0m\u001b[0;34m:\u001b[0m \u001b[0;36m11\u001b[0m\u001b[0;34m}\u001b[0m\u001b[0;34m,\u001b[0m \u001b[0;36m145\u001b[0m\u001b[0;34m)\u001b[0m\u001b[0;34m)\u001b[0m\u001b[0;34m\u001b[0m\u001b[0m\n\u001b[0m",
      "\u001b[0;31mTypeError\u001b[0m: unhashable type: 'list'"
     ]
    }
   ],
   "source": [
    "sorted(brute_force_cow_transport({'Luna': 41, 'Betsy': 39, 'Starlight': 54, 'Buttercup': 11}, 145))"
   ]
  },
  {
   "cell_type": "code",
   "execution_count": 230,
   "metadata": {},
   "outputs": [
    {
     "data": {
      "text/plain": [
       "[['Betsy', 'Luna', 'Starlight', 'Buttercup']]"
      ]
     },
     "execution_count": 230,
     "metadata": {},
     "output_type": "execute_result"
    }
   ],
   "source": [
    "sorted([['Betsy', 'Luna', 'Starlight', 'Buttercup']])"
   ]
  },
  {
   "cell_type": "code",
   "execution_count": null,
   "metadata": {},
   "outputs": [],
   "source": []
  },
  {
   "cell_type": "code",
   "execution_count": null,
   "metadata": {
    "collapsed": true
   },
   "outputs": [],
   "source": []
  }
 ],
 "metadata": {
  "kernelspec": {
   "display_name": "Python 3",
   "language": "python",
   "name": "python3"
  },
  "language_info": {
   "codemirror_mode": {
    "name": "ipython",
    "version": 3
   },
   "file_extension": ".py",
   "mimetype": "text/x-python",
   "name": "python",
   "nbconvert_exporter": "python",
   "pygments_lexer": "ipython3",
   "version": "3.6.2"
  }
 },
 "nbformat": 4,
 "nbformat_minor": 2
}
