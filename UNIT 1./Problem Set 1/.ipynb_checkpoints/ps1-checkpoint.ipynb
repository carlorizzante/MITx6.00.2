{
 "cells": [
  {
   "cell_type": "code",
   "execution_count": 78,
   "metadata": {},
   "outputs": [
    {
     "data": {
      "text/plain": [
       "[['Henrietta'],\n",
       " ['Betsy'],\n",
       " ['Herman', 'Moo Moo'],\n",
       " ['Oreo', 'Maggie'],\n",
       " ['Millie', 'Milkshake', 'Lola'],\n",
       " ['Florence']]"
      ]
     },
     "execution_count": 78,
     "metadata": {},
     "output_type": "execute_result"
    }
   ],
   "source": [
    "###########################\n",
    "# 6.00.2x Problem Set 1: Space Cows \n",
    "\n",
    "from ps1_partition import get_partitions\n",
    "import time\n",
    "\n",
    "#================================\n",
    "# Part A: Transporting Space Cows\n",
    "#================================\n",
    "\n",
    "def load_cows(filename):\n",
    "    \"\"\"\n",
    "    Read the contents of the given file.  Assumes the file contents contain\n",
    "    data in the form of comma-separated cow name, weight pairs, and return a\n",
    "    dictionary containing cow names as keys and corresponding weights as values.\n",
    "\n",
    "    Parameters:\n",
    "    filename - the name of the data file as a string\n",
    "\n",
    "    Returns:\n",
    "    a dictionary of cow name (string), weight (int) pairs\n",
    "    \"\"\"\n",
    "\n",
    "    cow_dict = dict()\n",
    "\n",
    "    f = open(filename, 'r')\n",
    "    \n",
    "    for line in f:\n",
    "        line_data = line.split(',')\n",
    "        cow_dict[line_data[0]] = int(line_data[1])\n",
    "    return cow_dict\n",
    "\n",
    "\n",
    "def greedy_cow_transport_first_iteration(cows, limit=10):\n",
    "    trips = []\n",
    "    cows_list = []\n",
    "    available = limit\n",
    "    for name,weight in cows.items():\n",
    "        cows_list.append((weight, name))\n",
    "    cows = sorted(cows_list, reverse=True)\n",
    "    while cows:\n",
    "        remove = []\n",
    "        trips.append([]) # new trip\n",
    "        for cow in cows:\n",
    "            if cow[0] <= available:\n",
    "                trips[-1].extend([cow[1]])\n",
    "                available -= cow[0]\n",
    "                remove.append(cow)\n",
    "        # reset available weight\n",
    "        available = limit\n",
    "        # remove allocated cows\n",
    "        for cow in remove:\n",
    "            cows.remove(cow)\n",
    "    return trips # removes last empty trip\n",
    "\n",
    "\n",
    "def greedy_cow_transport_second_iteration(cows, limit=10):\n",
    "    trips, remove, available = [], [], limit\n",
    "    # Make a list of cows, sort by weight (that's why weight first, name second)\n",
    "    cows = sorted([(weight, name) for name, weight in cows.items()], reverse=True)\n",
    "    while cows:\n",
    "        trips.append([cows[0][1]]) # Allocate heaviest cow on a new trip\n",
    "        available -= cows[0][0]    # Adjust available weight accordingly\n",
    "        cows.remove(cows[0])       # Remove this cow from future loops\n",
    "        for cow in cows:           # Loop through all remaiing cows\n",
    "            if available > 0 and cow[0] <= available:\n",
    "                trips[-1].extend([cow[1]])\n",
    "                available -= cow[0]\n",
    "                remove.append(cow)\n",
    "        for cow in remove:\n",
    "            cows.remove(cow)       # Skip allocated cows from future loops\n",
    "        available, remove = limit, [] # Reset working vars\n",
    "    return trips\n",
    "\n",
    "\n",
    "def greedy_cow_transport_third_iteration(cows, limit=10):\n",
    "    trips, available = [], limit\n",
    "    # Make a list of cows, sort by weight in ascending fashion (lightest first)\n",
    "    cows = sorted([(weight, name) for name, weight in cows.items()])\n",
    "    while cows:                     # Loop through available cows\n",
    "        trips.append([cows[-1][1]]) # Allocate heaviest cow on a new trip\n",
    "        available -= cows[-1][0]    # Adjust available weight accordingly\n",
    "        cows.remove(cows[-1])       # Remove this cow from future loops\n",
    "        i = len(cows) - 1           # Reset index\n",
    "        while i >= 0:               # Loop back through all remaiing cows\n",
    "            if available > 0 and cows[i][0] <= available:\n",
    "                trips[-1].append(cows[i][1])  # Allocate this cow!\n",
    "                available -= cows[i][0]       # adjust available weight\n",
    "                cows.remove(cows[i])          # Remove it from future loops\n",
    "            i -= 1                  # Avoid infinite loops\n",
    "        available = limit           # Reset available weight for next trip\n",
    "    return trips                    # Returns solution\n",
    "\n",
    "\n",
    "# Problem 1\n",
    "def greedy_cow_transport(cows,limit=10):\n",
    "    \"\"\"\n",
    "    Uses a greedy heuristic to determine an allocation of cows that attempts to\n",
    "    minimize the number of spaceship trips needed to transport all the cows. The\n",
    "    returned allocation of cows may or may not be optimal.\n",
    "    The greedy heuristic should follow the following method:\n",
    "\n",
    "    1. As long as the current trip can fit another cow, add the largest cow that will fit\n",
    "        to the trip\n",
    "    2. Once the trip is full, begin a new trip to transport the remaining cows\n",
    "\n",
    "    Does not mutate the given dictionary of cows.\n",
    "\n",
    "    Parameters:\n",
    "    cows - a dictionary of name (string), weight (int) pairs\n",
    "    limit - weight limit of the spaceship (an int)\n",
    "    \n",
    "    Returns:\n",
    "    A list of lists, with each inner list containing the names of cows\n",
    "    transported on a particular trip and the overall list containing all the\n",
    "    trips\n",
    "    \"\"\"\n",
    "    return greedy_cow_transport_third_iteration(cows,limit)\n",
    "    \n",
    "\n",
    "# Problem 2\n",
    "def brute_force_cow_transport(cows,limit=10):\n",
    "    \"\"\"\n",
    "    Finds the allocation of cows that minimizes the number of spaceship trips\n",
    "    via brute force.  The brute force algorithm should follow the following method:\n",
    "\n",
    "    1. Enumerate all possible ways that the cows can be divided into separate trips\n",
    "    2. Select the allocation that minimizes the number of trips without making any trip\n",
    "        that does not obey the weight limitation\n",
    "            \n",
    "    Does not mutate the given dictionary of cows.\n",
    "\n",
    "    Parameters:\n",
    "    cows - a dictionary of name (string), weight (int) pairs\n",
    "    limit - weight limit of the spaceship (an int)\n",
    "    \n",
    "    Returns:\n",
    "    A list of lists, with each inner list containing the names of cows\n",
    "    transported on a particular trip and the overall list containing all the\n",
    "    trips\n",
    "    \"\"\"\n",
    "    # TODO: Your code here\n",
    "    pass\n",
    "\n",
    "        \n",
    "# Problem 3\n",
    "def compare_cow_transport_algorithms():\n",
    "    \"\"\"\n",
    "    Using the data from ps1_cow_data.txt and the specified weight limit, run your\n",
    "    greedy_cow_transport and brute_force_cow_transport functions here. Use the\n",
    "    default weight limits of 10 for both greedy_cow_transport and\n",
    "    brute_force_cow_transport.\n",
    "    \n",
    "    Print out the number of trips returned by each method, and how long each\n",
    "    method takes to run in seconds.\n",
    "\n",
    "    Returns:\n",
    "    Does not return anything.\n",
    "    \"\"\"\n",
    "    # TODO: Your code here\n",
    "    pass\n",
    "\n",
    "\n",
    "\"\"\"\n",
    "Here is some test data for you to see the results of your algorithms with. \n",
    "Do not submit this along with any of your answers. Uncomment the last two\n",
    "lines to print the result of your problem.\n",
    "\"\"\"\n",
    "\n",
    "cows = load_cows(\"ps1_cow_data.txt\")\n",
    "greedy_cow_transport(cows,10)"
   ]
  },
  {
   "cell_type": "code",
   "execution_count": 79,
   "metadata": {},
   "outputs": [
    {
     "data": {
      "text/plain": [
       "True"
      ]
     },
     "execution_count": 79,
     "metadata": {},
     "output_type": "execute_result"
    }
   ],
   "source": [
    "greedy_cow_transport(cows,10) == [['Henrietta'], ['Betsy'], ['Herman', 'Moo Moo'], ['Oreo', 'Maggie'], ['Millie', 'Milkshake', 'Lola'], ['Florence']]"
   ]
  },
  {
   "cell_type": "code",
   "execution_count": 80,
   "metadata": {},
   "outputs": [
    {
     "data": {
      "text/plain": [
       "True"
      ]
     },
     "execution_count": 80,
     "metadata": {},
     "output_type": "execute_result"
    }
   ],
   "source": [
    "greedy_cow_transport({'Muscles': 65, 'Louis': 45, 'Milkshake': 75, 'Polaris': 20, 'Lotus': 10, 'Patches': 60, 'Horns': 50, 'Miss Bella': 15, 'Clover': 5, 'MooMoo': 85}, 100) == [['MooMoo', 'Miss Bella'], ['Milkshake', 'Polaris', 'Clover'], ['Muscles', 'Lotus'], ['Patches'], ['Horns', 'Louis']]"
   ]
  },
  {
   "cell_type": "code",
   "execution_count": 81,
   "metadata": {},
   "outputs": [
    {
     "data": {
      "text/plain": [
       "True"
      ]
     },
     "execution_count": 81,
     "metadata": {},
     "output_type": "execute_result"
    }
   ],
   "source": [
    "greedy_cow_transport({'Rose': 50, 'Coco': 10, 'Abby': 38, 'Dottie': 85, 'Betsy': 65, 'Patches': 12, 'Lilly': 24, 'Buttercup': 72, 'Daisy': 50, 'Willow': 35}, 100) == [['Dottie', 'Patches'], ['Buttercup', 'Lilly'], ['Betsy', 'Willow'], ['Rose', 'Daisy'], ['Abby', 'Coco']]"
   ]
  },
  {
   "cell_type": "code",
   "execution_count": 82,
   "metadata": {},
   "outputs": [
    {
     "data": {
      "text/plain": [
       "True"
      ]
     },
     "execution_count": 82,
     "metadata": {},
     "output_type": "execute_result"
    }
   ],
   "source": [
    "greedy_cow_transport({'Rose': 42, 'Coco': 59, 'Abby': 28, 'Luna': 41, 'Betsy': 39, 'Buttercup': 11, 'Willow': 59, 'Starlight': 54}, 120) == [['Willow', 'Coco'], ['Starlight', 'Rose', 'Buttercup'], ['Luna', 'Betsy', 'Abby']]"
   ]
  },
  {
   "cell_type": "code",
   "execution_count": null,
   "metadata": {},
   "outputs": [],
   "source": []
  },
  {
   "cell_type": "code",
   "execution_count": null,
   "metadata": {
    "collapsed": true
   },
   "outputs": [],
   "source": []
  }
 ],
 "metadata": {
  "kernelspec": {
   "display_name": "Python 3",
   "language": "python",
   "name": "python3"
  },
  "language_info": {
   "codemirror_mode": {
    "name": "ipython",
    "version": 3
   },
   "file_extension": ".py",
   "mimetype": "text/x-python",
   "name": "python",
   "nbconvert_exporter": "python",
   "pygments_lexer": "ipython3",
   "version": "3.6.2"
  }
 },
 "nbformat": 4,
 "nbformat_minor": 2
}
