{
 "cells": [
  {
   "cell_type": "code",
   "execution_count": 4,
   "metadata": {
    "collapsed": true
   },
   "outputs": [],
   "source": [
    "# Gen all combination of N items\n",
    "def powerset(items):\n",
    "    N = len(items)\n",
    "    # Enumerate 2**N possible combinations\n",
    "    for i in range(2**N):\n",
    "        combo = []\n",
    "        for j in range(N):\n",
    "            # test bit jth of integer i\n",
    "            if (i >> j) % 2 == 1:\n",
    "                combo.append(items[j])\n",
    "        yield combo\n",
    "\n",
    "class Item(object):\n",
    "    def __init__(self, n, v, w):\n",
    "        self.name = n\n",
    "        self.value = float(v)\n",
    "        self.weight = float(w)\n",
    "    def getName(self):\n",
    "        return self.name\n",
    "    def getValue(self):\n",
    "        return self.value\n",
    "    def getWeight(self):\n",
    "        return self.weight\n",
    "    def __str__(self):\n",
    "        return '<' + self.name + ', ' + str(self.value) + ', '\\\n",
    "                     + str(self.weight) + '>'\n",
    "\n",
    "def buildItems():\n",
    "    return [Item(n,v,w) for n,v,w in (('clock', 175, 10),\n",
    "                                      ('painting', 90, 9),\n",
    "                                      ('radio', 20, 4),\n",
    "                                      ('vase', 50, 2),\n",
    "                                      ('book', 10, 1),\n",
    "                                      ('computer', 200, 20))]\n",
    "\n",
    "def buildRandomItems(n):\n",
    "    return [Item(str(i),10*random.randint(1,10),random.randint(1,10))\n",
    "            for i in range(n)]"
   ]
  },
  {
   "cell_type": "code",
   "execution_count": 9,
   "metadata": {},
   "outputs": [
    {
     "name": "stdout",
     "output_type": "stream",
     "text": [
      "list(powerset(s)): [[], ['A'], ['B'], ['A', 'B'], ['C'], ['A', 'C'], ['B', 'C'], ['A', 'B', 'C']]\n"
     ]
    },
    {
     "data": {
      "text/plain": [
       "8"
      ]
     },
     "execution_count": 9,
     "metadata": {},
     "output_type": "execute_result"
    }
   ],
   "source": [
    "print(\"list(powerset(s)):\", list(powerset([\"A\",\"B\",\"C\"])))\n",
    "\n",
    "0-7\n",
    "\n",
    "000  -> []\n",
    "001  -> [C]\n",
    "010  -> [B]\n",
    "011  -> [B,C]\n",
    "100  -> [A]\n",
    "101  -> [A,C]\n",
    "111  -> [A,B,C]\n",
    "\n",
    "000\n",
    "001\n",
    "002\n",
    "010\n",
    "011\n",
    "012\n",
    "020\n",
    "021\n",
    "022\n",
    "100"
   ]
  },
  {
   "cell_type": "code",
   "execution_count": 13,
   "metadata": {},
   "outputs": [
    {
     "name": "stdout",
     "output_type": "stream",
     "text": [
      "[([], []), ([1], []), ([], [1]), ([2], []), ([1, 2], []), ([2], [1]), ([], [2]), ([1], [2]), ([], [1, 2])]\n",
      "[([], []), ([1], []), ([], [1]), ([2], []), ([1, 2], []), ([2], [1]), ([], [2]), ([1], [2]), ([], [1, 2])]\n"
     ]
    }
   ],
   "source": [
    "def yieldAllCombos(items):\n",
    "    \"\"\"\n",
    "        Generates all combinations of N items into two bags, whereby each \n",
    "        item is in one or zero bags.\n",
    "\n",
    "        Yields a tuple, (bag1, bag2), where each bag is represented as a list \n",
    "        of which item(s) are in each bag.\n",
    "    \"\"\"\n",
    "    # Your code here\n",
    "    def trinary(n):\n",
    "        \"\"\" Assumes n int base 10.\n",
    "            Returns trinary of n.\"\"\"\n",
    "        if n == 0:\n",
    "            return \"0\"\n",
    "        reminders = []\n",
    "        while n:\n",
    "            n, r = divmod(n, 3)\n",
    "            reminders.append(str(r))\n",
    "        return \"\".join(reversed(reminders))\n",
    "    \n",
    "    # Finally solving problem at hand\n",
    "    for i in range(3**len(items)):\n",
    "        bag1 = []\n",
    "        bag2 = []\n",
    "        for j in range(len(items)):\n",
    "            pos = i//(3**j)%3\n",
    "            if pos == 1:\n",
    "                bag1.append(items[j])\n",
    "            elif pos == 2:\n",
    "                bag2.append(items[j])\n",
    "        yield (bag1, bag2)\n",
    "        \n",
    "# list(yieldAllCombos([1,2,3]))\n",
    "\n",
    "items = buildItems()\n",
    "combos = yieldAllCombos(items)\n",
    "# list(yieldAllCombos(items))\n",
    "\n",
    "print(list(yieldAllCombos([1, 2])))\n",
    "print(\"[([], []), ([1], []), ([], [1]), ([2], []), ([1, 2], []), ([2], [1]), ([], [2]), ([1], [2]), ([], [1, 2])]\")"
   ]
  },
  {
   "cell_type": "code",
   "execution_count": null,
   "metadata": {
    "collapsed": true
   },
   "outputs": [],
   "source": [
    "note = 35\n",
    "bin(note)[2:]\n",
    "\n",
    "def take_bit():\n",
    "    global note\n",
    "    bit = note % 2\n",
    "    note = note >> 1\n",
    "    print(\"note number %d - note in binary %s - bit stolen: %d\" % (note, bin(note)[2:], bit))\n",
    "    \n",
    "take_bit()\n",
    "take_bit()\n",
    "take_bit()\n",
    "take_bit()\n",
    "take_bit()\n",
    "take_bit()"
   ]
  },
  {
   "cell_type": "code",
   "execution_count": 101,
   "metadata": {},
   "outputs": [
    {
     "name": "stdout",
     "output_type": "stream",
     "text": [
      "5 1 True\n",
      "2 0 False\n",
      "1 1 True\n"
     ]
    }
   ],
   "source": [
    "print(5 >> 0, (5 >> 0) % 2, ((5 >> 0) % 2) == 1) # Take\n",
    "print(5 >> 1, (5 >> 1) % 2, ((5 >> 1) % 2) == 1) # Leave\n",
    "print(5 >> 2, (5 >> 2) % 2, ((5 >> 2) % 2) == 1) # Take"
   ]
  },
  {
   "cell_type": "code",
   "execution_count": 116,
   "metadata": {},
   "outputs": [
    {
     "name": "stdout",
     "output_type": "stream",
     "text": [
      "156 10011100 10011100\n"
     ]
    }
   ],
   "source": [
    "print(156, bin(156)[2:], \"10011100\")"
   ]
  },
  {
   "cell_type": "code",
   "execution_count": 136,
   "metadata": {},
   "outputs": [
    {
     "data": {
      "text/plain": [
       "'10'"
      ]
     },
     "execution_count": 136,
     "metadata": {},
     "output_type": "execute_result"
    }
   ],
   "source": [
    "n = 3\n",
    "t = str(n%3)\n",
    "t = str(n//3) + str(t)\n",
    "t"
   ]
  },
  {
   "cell_type": "code",
   "execution_count": 16,
   "metadata": {},
   "outputs": [
    {
     "name": "stdout",
     "output_type": "stream",
     "text": [
      "0 True\n",
      "1 True\n",
      "2 True\n",
      "10 True\n",
      "11 True\n",
      "True\n",
      "True\n",
      "True\n",
      "True\n",
      "True\n"
     ]
    }
   ],
   "source": [
    "def trinary(n):\n",
    "    \"\"\" Assumes n int base 10.\n",
    "        Returns trinary of n.\"\"\"\n",
    "    if n == 0:\n",
    "        return \"0\"\n",
    "    reminders = []\n",
    "    while n:\n",
    "        n, r = divmod(n, 3)\n",
    "        reminders.append(str(r))\n",
    "    return \"\".join(reversed(reminders))\n",
    "\n",
    "print(trinary(0), trinary(0) == \"0\")\n",
    "print(trinary(1), trinary(1) == \"1\")\n",
    "print(trinary(2), trinary(2) == \"2\")\n",
    "print(trinary(3), trinary(3) == \"10\")\n",
    "print(trinary(4), trinary(4) == \"11\")\n",
    "print(trinary(5) == \"12\")\n",
    "print(trinary(6) == \"20\")\n",
    "print(trinary(7) == \"21\")\n",
    "print(trinary(8) == \"22\")\n",
    "print(trinary(9) == \"100\")"
   ]
  },
  {
   "cell_type": "code",
   "execution_count": 18,
   "metadata": {},
   "outputs": [
    {
     "data": {
      "text/plain": [
       "'102'"
      ]
     },
     "execution_count": 18,
     "metadata": {},
     "output_type": "execute_result"
    }
   ],
   "source": [
    "trinary(11)"
   ]
  },
  {
   "cell_type": "code",
   "execution_count": null,
   "metadata": {
    "collapsed": true
   },
   "outputs": [],
   "source": []
  }
 ],
 "metadata": {
  "kernelspec": {
   "display_name": "Python 3",
   "language": "python",
   "name": "python3"
  },
  "language_info": {
   "codemirror_mode": {
    "name": "ipython",
    "version": 3
   },
   "file_extension": ".py",
   "mimetype": "text/x-python",
   "name": "python",
   "nbconvert_exporter": "python",
   "pygments_lexer": "ipython3",
   "version": "3.6.2"
  }
 },
 "nbformat": 4,
 "nbformat_minor": 2
}
