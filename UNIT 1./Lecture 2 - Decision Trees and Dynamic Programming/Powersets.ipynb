{
 "cells": [
  {
   "cell_type": "code",
   "execution_count": 61,
   "metadata": {},
   "outputs": [
    {
     "data": {
      "text/plain": [
       "[[], [1], [2], [1, 2], [3], [1, 3], [2, 3], [1, 2, 3]]"
      ]
     },
     "execution_count": 61,
     "metadata": {},
     "output_type": "execute_result"
    }
   ],
   "source": [
    "def powerset1(xs):\n",
    "    result = [[]]\n",
    "    for x in xs:\n",
    "        newsubset = [subset + [x] for subset in result]\n",
    "        result.extend(newsubset)\n",
    "    return result\n",
    "\n",
    "powerset1([1,2,3])"
   ]
  },
  {
   "cell_type": "code",
   "execution_count": 60,
   "metadata": {},
   "outputs": [
    {
     "data": {
      "text/plain": [
       "[[1, 2, 3], [1, 2], [1, 3], [1], [2, 3], [2], [3], []]"
      ]
     },
     "execution_count": 60,
     "metadata": {},
     "output_type": "execute_result"
    }
   ],
   "source": [
    "def powerset2(orig, newset):\n",
    "    if orig == []:\n",
    "        return [newset]\n",
    "    result = []\n",
    "    for s in powerset2(orig[1:], newset+[orig[0]]):\n",
    "        result.append(s)\n",
    "    for s in powerset2(orig[1:], newset):\n",
    "        result.append(s)\n",
    "    return result\n",
    "\n",
    "powerset2([1,2,3],[])"
   ]
  },
  {
   "cell_type": "code",
   "execution_count": 59,
   "metadata": {},
   "outputs": [
    {
     "data": {
      "text/plain": [
       "[[1, 2, 3], [1, 2], [1, 3], [1], [2, 3], [2], [3], []]"
      ]
     },
     "execution_count": 59,
     "metadata": {},
     "output_type": "execute_result"
    }
   ],
   "source": [
    "def powerset3(orig, newset):\n",
    "    if orig == []:\n",
    "        yield newset\n",
    "    else:\n",
    "        for s in powerset3(orig[1:], newset+[orig[0]]):\n",
    "            yield s\n",
    "        for s in powerset3(orig[1:], newset):\n",
    "            yield s\n",
    "\n",
    "pw3 = powerset3([1,2,3], [])\n",
    "list(powerset3([1,2,3], []))"
   ]
  },
  {
   "cell_type": "code",
   "execution_count": 58,
   "metadata": {},
   "outputs": [
    {
     "data": {
      "text/plain": [
       "[[3, 2, 1], [3, 2], [3, 1], [3], [2, 1], [2], [1], []]"
      ]
     },
     "execution_count": 58,
     "metadata": {},
     "output_type": "execute_result"
    }
   ],
   "source": [
    "def powerset4(xs):\n",
    "    if len(xs) == 1:\n",
    "        yield xs\n",
    "        yield []\n",
    "    else:\n",
    "        for x in powerset4(xs[1:]):\n",
    "            yield x + [xs[0]]\n",
    "            yield x\n",
    "            \n",
    "list(powerset4([1,2,3]))"
   ]
  },
  {
   "cell_type": "code",
   "execution_count": 25,
   "metadata": {},
   "outputs": [
    {
     "data": {
      "text/plain": [
       "[[3, 2, 1], [3, 2], [3, 1], [3], [2, 1], [2], [1], []]"
      ]
     },
     "execution_count": 25,
     "metadata": {},
     "output_type": "execute_result"
    }
   ],
   "source": [
    "def powerset5(xs):\n",
    "    if xs == []:\n",
    "        yield []\n",
    "    else:\n",
    "        for x in powerset5(xs[1:]):\n",
    "            yield x + [xs[0]]\n",
    "            yield x\n",
    "\n",
    "list(powerset5([1,2,3]))"
   ]
  },
  {
   "cell_type": "code",
   "execution_count": 77,
   "metadata": {},
   "outputs": [
    {
     "data": {
      "text/plain": [
       "[[], [1], [2], [1, 2], [3], [1, 3], [2, 3], [1, 2, 3]]"
      ]
     },
     "execution_count": 77,
     "metadata": {},
     "output_type": "execute_result"
    }
   ],
   "source": [
    "def powerset6(xs):\n",
    "    pairs = [(2**i, x) for i, x in enumerate(xs)]\n",
    "    for i in range(2**len(pairs)):\n",
    "        yield [x for (mask, x) in pairs if i & mask]\n",
    "    \n",
    "list(powerset6([1,2,3]))"
   ]
  },
  {
   "cell_type": "code",
   "execution_count": 110,
   "metadata": {},
   "outputs": [
    {
     "name": "stdout",
     "output_type": "stream",
     "text": [
      "000\n",
      "001\n",
      "010\n",
      "011\n",
      "100\n",
      "101\n",
      "110\n",
      "111\n"
     ]
    }
   ],
   "source": [
    "from math import log\n",
    "\n",
    "n = 2**len([1,2,3]) # 2**3 = 8\n",
    "for i in range(n):\n",
    "    b = str(bin(i))[2:] # remove \"0b\" for each binary value\n",
    "    if n%2 != 0:\n",
    "        left_padding = int(1 + len(b))\n",
    "    else:\n",
    "        left_padding = int(log(n,2))\n",
    "    b = \"0\"*(left_padding - len(b)) + b\n",
    "    print(b)"
   ]
  },
  {
   "cell_type": "code",
   "execution_count": 128,
   "metadata": {},
   "outputs": [
    {
     "name": "stdout",
     "output_type": "stream",
     "text": [
      "0 -> 000\n",
      "1 -> 001\n",
      "2 -> 010\n",
      "3 -> 011\n",
      "4 -> 100\n",
      "5 -> 101\n",
      "6 -> 110\n",
      "7 -> 111\n"
     ]
    }
   ],
   "source": [
    "from math import ceil, log\n",
    "\n",
    "n = 2**len([1,2,3])\n",
    "l = int(ceil(log(n,2)))\n",
    "for i in range(n):\n",
    "    b = str(bin(i)[2:]) # removes \"0b\"\n",
    "    left_padding = \"0\"*(l-len(b))\n",
    "    print(i, \"->\", left_padding + b)"
   ]
  },
  {
   "cell_type": "code",
   "execution_count": 6,
   "metadata": {},
   "outputs": [
    {
     "data": {
      "text/plain": [
       "[[], [1], [2], [1, 2], [3], [1, 3], [2, 3], [1, 2, 3]]"
      ]
     },
     "execution_count": 6,
     "metadata": {},
     "output_type": "execute_result"
    }
   ],
   "source": [
    "def powerset1(items):\n",
    "    powerset = [[]]\n",
    "    for i in items:\n",
    "        set = [subset + [i] for subset in powerset]\n",
    "        powerset.extend(set)\n",
    "    return powerset\n",
    "\n",
    "powerset1a([1,2,3])"
   ]
  },
  {
   "cell_type": "code",
   "execution_count": 35,
   "metadata": {},
   "outputs": [
    {
     "data": {
      "text/plain": [
       "[[3, 2, 1], [3, 2], [3, 1], [3], [2, 1], [2], [1], []]"
      ]
     },
     "execution_count": 35,
     "metadata": {},
     "output_type": "execute_result"
    }
   ],
   "source": [
    "def powerset2(items):\n",
    "    if items == []:\n",
    "        yield []\n",
    "    else:\n",
    "        for i in powerset2(items[1:]):\n",
    "            yield i + [items[0]]\n",
    "            yield i\n",
    "\n",
    "list(powerset2([1,2,3]))"
   ]
  },
  {
   "cell_type": "code",
   "execution_count": 38,
   "metadata": {},
   "outputs": [
    {
     "ename": "ModuleNotFoundError",
     "evalue": "No module named 'chain'",
     "output_type": "error",
     "traceback": [
      "\u001b[0;31m---------------------------------------------------------------------------\u001b[0m",
      "\u001b[0;31mModuleNotFoundError\u001b[0m                       Traceback (most recent call last)",
      "\u001b[0;32m<ipython-input-38-2c628ec5664a>\u001b[0m in \u001b[0;36m<module>\u001b[0;34m()\u001b[0m\n\u001b[0;32m----> 1\u001b[0;31m \u001b[0;32mimport\u001b[0m \u001b[0mchain\u001b[0m\u001b[0;34m\u001b[0m\u001b[0m\n\u001b[0m\u001b[1;32m      2\u001b[0m \u001b[0;32mdef\u001b[0m \u001b[0mpowerSet\u001b[0m\u001b[0;34m(\u001b[0m\u001b[0miterable\u001b[0m\u001b[0;34m)\u001b[0m\u001b[0;34m:\u001b[0m\u001b[0;34m\u001b[0m\u001b[0m\n\u001b[1;32m      3\u001b[0m \u001b[0;31m# \"powerset([1,2,3]) --> () (1,) (2,) (3,) (1,2) (1,3) (2,3) (1,2,3)\"\u001b[0m\u001b[0;34m\u001b[0m\u001b[0;34m\u001b[0m\u001b[0m\n\u001b[1;32m      4\u001b[0m     \u001b[0ms\u001b[0m \u001b[0;34m=\u001b[0m \u001b[0mlist\u001b[0m\u001b[0;34m(\u001b[0m\u001b[0miterable\u001b[0m\u001b[0;34m)\u001b[0m\u001b[0;34m\u001b[0m\u001b[0m\n\u001b[1;32m      5\u001b[0m     \u001b[0;32mreturn\u001b[0m \u001b[0mchain\u001b[0m\u001b[0;34m.\u001b[0m\u001b[0mfrom_iterable\u001b[0m\u001b[0;34m(\u001b[0m\u001b[0mcombinations\u001b[0m\u001b[0;34m(\u001b[0m\u001b[0ms\u001b[0m\u001b[0;34m,\u001b[0m \u001b[0mr\u001b[0m\u001b[0;34m)\u001b[0m \u001b[0;32mfor\u001b[0m \u001b[0mr\u001b[0m \u001b[0;32min\u001b[0m \u001b[0mrange\u001b[0m\u001b[0;34m(\u001b[0m\u001b[0mlen\u001b[0m\u001b[0;34m(\u001b[0m\u001b[0ms\u001b[0m\u001b[0;34m)\u001b[0m\u001b[0;34m+\u001b[0m\u001b[0;36m1\u001b[0m\u001b[0;34m)\u001b[0m\u001b[0;34m)\u001b[0m\u001b[0;34m\u001b[0m\u001b[0m\n",
      "\u001b[0;31mModuleNotFoundError\u001b[0m: No module named 'chain'"
     ]
    }
   ],
   "source": [
    "import chain\n",
    "def powerSet(iterable):\n",
    "# \"powerset([1,2,3]) --> () (1,) (2,) (3,) (1,2) (1,3) (2,3) (1,2,3)\"\n",
    "    s = list(iterable)\n",
    "    return chain.from_iterable(combinations(s, r) for r in range(len(s)+1))\n",
    "\n",
    "powerSet([1,2,3])"
   ]
  },
  {
   "cell_type": "code",
   "execution_count": null,
   "metadata": {
    "collapsed": true
   },
   "outputs": [],
   "source": []
  }
 ],
 "metadata": {
  "kernelspec": {
   "display_name": "Python 3",
   "language": "python",
   "name": "python3"
  },
  "language_info": {
   "codemirror_mode": {
    "name": "ipython",
    "version": 3
   },
   "file_extension": ".py",
   "mimetype": "text/x-python",
   "name": "python",
   "nbconvert_exporter": "python",
   "pygments_lexer": "ipython3",
   "version": "3.6.2"
  }
 },
 "nbformat": 4,
 "nbformat_minor": 2
}
