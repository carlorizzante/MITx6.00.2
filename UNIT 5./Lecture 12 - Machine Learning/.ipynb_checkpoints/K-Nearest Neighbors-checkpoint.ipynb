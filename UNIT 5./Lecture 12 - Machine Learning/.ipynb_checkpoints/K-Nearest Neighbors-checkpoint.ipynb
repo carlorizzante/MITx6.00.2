{
 "cells": [
  {
   "cell_type": "code",
   "execution_count": 1,
   "metadata": {
    "collapsed": true
   },
   "outputs": [],
   "source": [
    "def zScale(xs):\n",
    "    \"\"\" Assumes xs sequence of floats.\"\"\"\n",
    "    result = pylab.array(xs)\n",
    "    mean = sum(result)/len(result)\n",
    "    result -= mean\n",
    "    return result/stdDev(result)\n",
    "\n",
    "def iScale(xs):\n",
    "    \"\"\" Assumes xs sequence of floats.\"\"\"\n",
    "    minval, maxval = min(xs), max(xs)\n",
    "    fit = pylab.polyfit([minval, maxval], [0,1], 1)\n",
    "    return pylab.polyval(fit, xs)"
   ]
  },
  {
   "cell_type": "code",
   "execution_count": null,
   "metadata": {
    "collapsed": true
   },
   "outputs": [],
   "source": []
  }
 ],
 "metadata": {
  "kernelspec": {
   "display_name": "Python 3",
   "language": "python",
   "name": "python3"
  },
  "language_info": {
   "codemirror_mode": {
    "name": "ipython",
    "version": 3
   },
   "file_extension": ".py",
   "mimetype": "text/x-python",
   "name": "python",
   "nbconvert_exporter": "python",
   "pygments_lexer": "ipython3",
   "version": "3.6.2"
  }
 },
 "nbformat": 4,
 "nbformat_minor": 2
}
