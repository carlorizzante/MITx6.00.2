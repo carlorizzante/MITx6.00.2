{
 "cells": [
  {
   "cell_type": "code",
   "execution_count": 21,
   "metadata": {},
   "outputs": [
    {
     "name": "stdout",
     "output_type": "stream",
     "text": [
      "Mean of rolling 1 die   = 2.501056452366543 StdDev = 1.4438073128135047\n",
      "Mean of rolling 50 dice = 2.4990216881784093 StdDev = 0.20563929937148842\n"
     ]
    },
    {
     "data": {
      "image/png": "[encoded data removed]",
      "text/plain": [
       "<matplotlib.figure.Figure at 0x10f1c2978>"
      ]
     },
     "metadata": {},
     "output_type": "display_data"
    }
   ],
   "source": [
    "import random, pylab\n",
    "\n",
    "def plotMeans(dice, rolls, bins, label, color, style):\n",
    "    means = []\n",
    "    for i in range(rolls//dice):\n",
    "        vals = 0\n",
    "        for j in range(dice):\n",
    "            vals += 5 * random.random()\n",
    "        means.append(vals/dice)\n",
    "    weights = pylab.array(len(means)*[1])/len(means)\n",
    "    pylab.hist(means, bins, color=color, label=label, weights=weights, hatch=style)\n",
    "    return meanAndStdDev(means)\n",
    "\n",
    "def meanAndStdDev(sample):\n",
    "    mean = sum(sample)/len(sample)\n",
    "    tot = 0.0\n",
    "    for x in sample:\n",
    "        tot += (x - mean)**2\n",
    "    std = (tot/len(sample))**0.5\n",
    "    return mean, std\n",
    "\n",
    "mean, std = plotMeans(1, 1000000, 19, \"1 die\", \"b\", \"*\")\n",
    "print(\"Mean of rolling 1 die   =\", mean, \"StdDev =\", std)\n",
    "mean, std = plotMeans(50, 1000000, 19, \"50 dice\", \"r\", \"//\")\n",
    "print(\"Mean of rolling 50 dice =\", mean, \"StdDev =\", std)\n",
    "\n",
    "pylab.title(\"Rolling Continuous Dice\")\n",
    "pylab.xlabel(\"Value\")\n",
    "pylab.ylabel(\"Probability\")\n",
    "pylab.legend()\n",
    "pylab.show()"
   ]
  },
  {
   "cell_type": "code",
   "execution_count": null,
   "metadata": {
    "collapsed": true
   },
   "outputs": [],
   "source": []
  }
 ],
 "metadata": {
  "kernelspec": {
   "display_name": "Python 3",
   "language": "python",
   "name": "python3"
  },
  "language_info": {
   "codemirror_mode": {
    "name": "ipython",
    "version": 3
   },
   "file_extension": ".py",
   "mimetype": "text/x-python",
   "name": "python",
   "nbconvert_exporter": "python",
   "pygments_lexer": "ipython3",
   "version": "3.6.2"
  }
 },
 "nbformat": 4,
 "nbformat_minor": 2
}
