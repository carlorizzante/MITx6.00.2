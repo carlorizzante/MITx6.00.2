{
 "cells": [
  {
   "cell_type": "code",
   "execution_count": 36,
   "metadata": {},
   "outputs": [],
   "source": [
    "import random, math\n",
    "\n",
    "def findPi(n):\n",
    "    \"\"\" Simulates dropping n points within a quadrant of a square.\n",
    "        Points at distance 1 from the lower left corner are counted \n",
    "        as being also part of a circle.\n",
    "        \n",
    "        Returns the ratio between points in the circle / points in the square.\"\"\"\n",
    "    count = 0\n",
    "    for i in range(n):\n",
    "        x = random.random()\n",
    "        y = random.random()\n",
    "        if (x**2 + y**2)**.5 <= 1.0:\n",
    "            count += 1\n",
    "    return 4 * (count / n)\n",
    "\n",
    "def estimatePi(n, trials):\n",
    "    estimates = []\n",
    "    for t in range(trials):\n",
    "        guess = findPi(n)\n",
    "        estimates.append(guess)\n",
    "    mean, stdDev = meanAndStdDev(estimates)\n",
    "    print(\"PI =\", round(mean, 8), \"  StdDev =\", round(stdDev, 5), \"  shots\", n, \"  trials\", trials)\n",
    "    return mean, stdDev\n",
    "              \n",
    "def meanAndStdDev(sample):\n",
    "    mean = sum(sample)/len(sample)\n",
    "    std = (sum([(x - mean)**2 for x in sample])/len(sample))**.5\n",
    "    return mean, std\n",
    "\n",
    "def runSim(precision, trials):\n",
    "    n = 100\n",
    "    stdDev = precision\n",
    "    while stdDev >= precision / 2:\n",
    "        mean, stdDev = estimatePi(n, trials)\n",
    "        n *= 2\n",
    "    return mean"
   ]
  },
  {
   "cell_type": "code",
   "execution_count": 44,
   "metadata": {},
   "outputs": [
    {
     "name": "stdout",
     "output_type": "stream",
     "text": [
      "PI = 3.14159265\n",
      "\n",
      "PI = 3.16   StdDev = 0.13624   shots 100   trials 10\n",
      "PI = 3.18   StdDev = 0.13506   shots 200   trials 10\n",
      "PI = 3.152   StdDev = 0.07153   shots 400   trials 10\n",
      "PI = 3.1745   StdDev = 0.04333   shots 800   trials 10\n",
      "PI = 3.14825   StdDev = 0.05312   shots 1600   trials 10\n",
      "PI = 3.14225   StdDev = 0.03308   shots 3200   trials 10\n",
      "PI = 3.1405625   StdDev = 0.02048   shots 6400   trials 10\n",
      "PI = 3.14709375   StdDev = 0.01283   shots 12800   trials 10\n",
      "PI = 3.13454687   StdDev = 0.00813   shots 25600   trials 10\n",
      "PI = 3.13980469   StdDev = 0.00976   shots 51200   trials 10\n",
      "PI = 3.13942188   StdDev = 0.00314   shots 102400   trials 10\n",
      "\n",
      "PI = 3.1436   StdDev = 0.15483   shots 100   trials 100\n",
      "PI = 3.1334   StdDev = 0.12007   shots 200   trials 100\n",
      "PI = 3.1409   StdDev = 0.08623   shots 400   trials 100\n",
      "PI = 3.1349   StdDev = 0.05624   shots 800   trials 100\n",
      "PI = 3.137525   StdDev = 0.04312   shots 1600   trials 100\n",
      "PI = 3.1378375   StdDev = 0.03273   shots 3200   trials 100\n",
      "PI = 3.1394375   StdDev = 0.01858   shots 6400   trials 100\n",
      "PI = 3.138075   StdDev = 0.01452   shots 12800   trials 100\n",
      "PI = 3.14099531   StdDev = 0.00989   shots 25600   trials 100\n",
      "PI = 3.14177344   StdDev = 0.00714   shots 51200   trials 100\n",
      "PI = 3.14174453   StdDev = 0.00453   shots 102400   trials 100\n",
      "\n",
      "PI = 3.14752   StdDev = 0.16615   shots 100   trials 1000\n",
      "PI = 3.14456   StdDev = 0.11553   shots 200   trials 1000\n",
      "PI = 3.14399   StdDev = 0.07784   shots 400   trials 1000\n",
      "PI = 3.1438   StdDev = 0.05832   shots 800   trials 1000\n",
      "PI = 3.1429375   StdDev = 0.04033   shots 1600   trials 1000\n",
      "PI = 3.143725   StdDev = 0.02942   shots 3200   trials 1000\n",
      "PI = 3.14119312   StdDev = 0.02061   shots 6400   trials 1000\n",
      "PI = 3.14073906   StdDev = 0.01432   shots 12800   trials 1000\n",
      "PI = 3.14208187   StdDev = 0.01035   shots 25600   trials 1000\n",
      "PI = 3.14127859   StdDev = 0.00727   shots 51200   trials 1000\n",
      "PI = 3.14162848   StdDev = 0.00531   shots 102400   trials 1000\n",
      "PI = 3.14171598   StdDev = 0.00375   shots 204800   trials 1000\n",
      "\n",
      "PI = 3.139704   StdDev = 0.1639   shots 100   trials 10000\n",
      "PI = 3.142136   StdDev = 0.11725   shots 200   trials 10000\n",
      "PI = 3.140614   StdDev = 0.08319   shots 400   trials 10000\n",
      "PI = 3.1411745   StdDev = 0.0582   shots 800   trials 10000\n",
      "PI = 3.14120975   StdDev = 0.04084   shots 1600   trials 10000\n",
      "PI = 3.141562   StdDev = 0.02917   shots 3200   trials 10000\n",
      "PI = 3.141549   StdDev = 0.02056   shots 6400   trials 10000\n",
      "PI = 3.14139097   StdDev = 0.0144   shots 12800   trials 10000\n",
      "PI = 3.14149272   StdDev = 0.01028   shots 25600   trials 10000\n",
      "PI = 3.14157399   StdDev = 0.00735   shots 51200   trials 10000\n",
      "PI = 3.14158878   StdDev = 0.00517   shots 102400   trials 10000\n",
      "PI = 3.14159677   StdDev = 0.00359   shots 204800   trials 10000\n"
     ]
    }
   ],
   "source": [
    "print(\"PI =\", round(math.pi, 8))\n",
    "for i in range(1,5):\n",
    "    print()\n",
    "    runSim(0.01, 10**i)"
   ]
  },
  {
   "cell_type": "code",
   "execution_count": 46,
   "metadata": {},
   "outputs": [
    {
     "name": "stdout",
     "output_type": "stream",
     "text": [
      "PI = 3.14159265 \n",
      "\n",
      "PI = 3.192   StdDev = 0.14511   shots 100   trials 10\n",
      "PI = 3.144   StdDev = 0.09499   shots 200   trials 10\n",
      "PI = 3.139   StdDev = 0.04061   shots 400   trials 10\n",
      "PI = 3.1115   StdDev = 0.05263   shots 800   trials 10\n",
      "PI = 3.13925   StdDev = 0.03337   shots 1600   trials 10\n",
      "PI = 3.13825   StdDev = 0.03307   shots 3200   trials 10\n",
      "PI = 3.1498125   StdDev = 0.01432   shots 6400   trials 10\n",
      "PI = 3.14615625   StdDev = 0.01121   shots 12800   trials 10\n",
      "PI = 3.13314063   StdDev = 0.00769   shots 25600   trials 10\n",
      "PI = 3.14095313   StdDev = 0.00682   shots 51200   trials 10\n",
      "PI = 3.14389844   StdDev = 0.00586   shots 102400   trials 10\n",
      "PI = 3.14352148   StdDev = 0.00524   shots 204800   trials 10\n",
      "PI = 3.14169434   StdDev = 0.00384   shots 409600   trials 10\n",
      "PI = 3.14071387   StdDev = 0.00144   shots 819200   trials 10\n",
      "PI = 3.14180859   StdDev = 0.00101   shots 1638400   trials 10\n",
      "PI = 3.14155127   StdDev = 0.00117   shots 3276800   trials 10\n",
      "PI = 3.14153961   StdDev = 0.00061   shots 6553600   trials 10\n",
      "PI = 3.14140857   StdDev = 0.00056   shots 13107200   trials 10\n",
      "PI = 3.14163725   StdDev = 0.00026   shots 26214400   trials 10\n"
     ]
    },
    {
     "data": {
      "text/plain": [
       "3.1416372528076173"
      ]
     },
     "execution_count": 46,
     "metadata": {},
     "output_type": "execute_result"
    }
   ],
   "source": [
    "print(\"PI =\", round(math.pi, 8), \"\\n\")\n",
    "runSim(0.001, 10)"
   ]
  },
  {
   "cell_type": "code",
   "execution_count": null,
   "metadata": {
    "collapsed": true
   },
   "outputs": [],
   "source": []
  },
  {
   "cell_type": "code",
   "execution_count": null,
   "metadata": {},
   "outputs": [],
   "source": []
  },
  {
   "cell_type": "code",
   "execution_count": null,
   "metadata": {},
   "outputs": [],
   "source": []
  },
  {
   "cell_type": "code",
   "execution_count": null,
   "metadata": {
    "collapsed": true
   },
   "outputs": [],
   "source": []
  }
 ],
 "metadata": {
  "kernelspec": {
   "display_name": "Python 3",
   "language": "python",
   "name": "python3"
  },
  "language_info": {
   "codemirror_mode": {
    "name": "ipython",
    "version": 3
   },
   "file_extension": ".py",
   "mimetype": "text/x-python",
   "name": "python",
   "nbconvert_exporter": "python",
   "pygments_lexer": "ipython3",
   "version": "3.6.2"
  }
 },
 "nbformat": 4,
 "nbformat_minor": 2
}
