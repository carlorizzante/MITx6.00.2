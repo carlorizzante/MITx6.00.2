{
 "cells": [
  {
   "cell_type": "code",
   "execution_count": 15,
   "metadata": {
    "collapsed": true
   },
   "outputs": [],
   "source": [
    "import random\n",
    "\n",
    "class FairRoulette(object):\n",
    "    def __init__(self):\n",
    "        self.pockets = list(range(1,37))\n",
    "        self.ball = None\n",
    "        self.blackOdds, self.redOdds = 1.0, 1.0\n",
    "        self.pocketOdds = len(self.pockets) - 1\n",
    "        \n",
    "    def spin(self):\n",
    "        self.ball = random.choice(self.pockets)\n",
    "    \n",
    "    def isBlack(self):\n",
    "        if (self.ball > 0 and self.ball <= 10) or (self.ball > 18 and self.ball <= 28):\n",
    "            return self.ball % 2 == 0\n",
    "        else:\n",
    "            return self.ball % 2 == 1\n",
    "    \n",
    "    def isRed(self):\n",
    "        return not self.isBlack()\n",
    "    \n",
    "    def betBlack(self, amount):\n",
    "        if self.isBlack():\n",
    "            return amount * self.blackOdds\n",
    "        else:\n",
    "            return - amount # * self.blackOdds\n",
    "        \n",
    "    def betRed(self, amount):\n",
    "        if self.isRed():\n",
    "            return amount * self.redOdds\n",
    "        else:\n",
    "            return - amount # * self.redOdds\n",
    "    \n",
    "    def betPocket(self, pocket, amount):\n",
    "        if str(pocket) == str(self.ball):\n",
    "            return amount * self.pocketOdds\n",
    "        else:\n",
    "            return - amount\n",
    "    \n",
    "    def __str__(self):\n",
    "        return \"Fair Roulette    \"\n",
    "    \n",
    "class EuRoulette(FairRoulette):\n",
    "    def __init__(self):\n",
    "        FairRoulette.__init__(self)\n",
    "        self.pockets.append(0)\n",
    "    def __str__(self):\n",
    "        return \"European Roulette\"\n",
    "\n",
    "class USARoulette(FairRoulette):\n",
    "    def __init__(self):\n",
    "        FairRoulette.__init__(self)\n",
    "        self.pockets.append(0)\n",
    "        self.pockets.append(0)\n",
    "    def __str__(self):\n",
    "        return \"American Roulette\"\n",
    "\n",
    "def play(game, spins, toPrint=False):\n",
    "    bet = 1\n",
    "    totRed, totBlack, totPocket = 0,0,0\n",
    "    pockets = list(range(1,37))\n",
    "    game = game()\n",
    "    for i in range(spins):\n",
    "        game.spin()\n",
    "        lucky = random.choice(pockets)\n",
    "        totRed += game.betRed(bet)\n",
    "        totBlack += game.betBlack(bet)\n",
    "        totPocket += game.betPocket(lucky, bet)\n",
    "    if toPrint:\n",
    "        print(spins, \"spins of\", game)\n",
    "        print(\"   Expected return of betting red         =\", str(round(100*totRed/spins, 8)) + \"%\")\n",
    "        print(\"   Expected return of betting black       =\", str(round(100*totBlack/spins, 8)) + \"%\")\n",
    "        print(\"   Expected return of betting on a number =\", str(round(100*totPocket/spins, 8)) + \"%\")\n",
    "    return totRed/spins, totBlack/spins, totPocket/spins\n",
    "\n",
    "def findPocketReturn(game, trials, spins, toPrint=False):\n",
    "    pocketReturns = []\n",
    "    for trial in range(trials):\n",
    "        results = play(game, spins, toPrint)\n",
    "        pocketReturns.append(results[2])\n",
    "    return pocketReturns\n",
    "\n",
    "def runSim(games, trials, spinRange, toPrint=False):\n",
    "    results = {}\n",
    "    for game in games:\n",
    "        results[game().__str__()] = []\n",
    "    for spins in spinRange:\n",
    "        print(\"\\nSimulating betting on pockets on\", str(trials) + \",\", str(spins), \"spins each.\")\n",
    "        for game in games:\n",
    "            returns = findPocketReturn(game, trials, spins)\n",
    "            mean, std = meanAndStdDev(returns)\n",
    "            results[game().__str__()].append((spins, 100*mean, 100*std))\n",
    "            mean = str(round(100*mean, 3)) + \"%\"\n",
    "            confidence = \"+/- \" + str(round(100*1.96*std, 3)) + \"% with 95% confidence\"\n",
    "            print(\"   Exp. result for\", game().__str__(), \"=\", mean, confidence)\n",
    "    return results\n",
    "        \n",
    "def meanAndStdDev(sample):\n",
    "    mean = sum(sample)/len(sample)\n",
    "    tot = 0.0\n",
    "    for x in sample:\n",
    "        tot += (x - mean)**2\n",
    "    std = (tot/len(sample))**0.5\n",
    "    return mean, std"
   ]
  },
  {
   "cell_type": "code",
   "execution_count": 18,
   "metadata": {},
   "outputs": [
    {
     "name": "stdout",
     "output_type": "stream",
     "text": [
      "\n",
      "Simulating betting on pockets on 20, 100 spins each.\n",
      "   Exp. result for Fair Roulette     = -4.6% +/- 120.728% with 95% confidence\n",
      "   Exp. result for European Roulette = -8.2% +/- 75.585% with 95% confidence\n",
      "   Exp. result for American Roulette = 4.4% +/- 83.189% with 95% confidence\n",
      "\n",
      "Simulating betting on pockets on 20, 1000 spins each.\n",
      "   Exp. result for Fair Roulette     = 4.58% +/- 34.312% with 95% confidence\n",
      "   Exp. result for European Roulette = -5.86% +/- 36.953% with 95% confidence\n",
      "   Exp. result for American Roulette = -0.1% +/- 41.677% with 95% confidence\n",
      "\n",
      "Simulating betting on pockets on 20, 10000 spins each.\n",
      "   Exp. result for Fair Roulette     = -0.028% +/- 9.069% with 95% confidence\n",
      "   Exp. result for European Roulette = -2.026% +/- 8.686% with 95% confidence\n",
      "   Exp. result for American Roulette = -5.554% +/- 9.528% with 95% confidence\n",
      "\n",
      "Simulating betting on pockets on 20, 100000 spins each.\n",
      "   Exp. result for Fair Roulette     = 0.312% +/- 3.978% with 95% confidence\n",
      "   Exp. result for European Roulette = -2.152% +/- 4.188% with 95% confidence\n",
      "   Exp. result for American Roulette = -5.266% +/- 4.274% with 95% confidence\n"
     ]
    },
    {
     "data": {
      "text/plain": [
       "{'American Roulette': [(100, 4.3999999999999995, 42.44337404118575),\n",
       "  (1000, -0.10000000000000024, 21.26363092230487),\n",
       "  (10000, -5.554000000000001, 4.861033223503003),\n",
       "  (100000, -5.266000000000001, 2.180497741342559)],\n",
       " 'European Roulette': [(100, -8.200000000000001, 38.563713514131386),\n",
       "  (1000, -5.86, 18.853657470103776),\n",
       "  (10000, -2.026, 4.431474246794175),\n",
       "  (100000, -2.1519999999999997, 2.136775140252245)],\n",
       " 'Fair Roulette    ': [(100, -4.6000000000000005, 61.59577907616723),\n",
       "  (1000, 4.58, 17.506330283643113),\n",
       "  (10000, -0.02799999999999993, 4.627225518601833),\n",
       "  (100000, 0.3122, 2.029502195120764)]}"
      ]
     },
     "execution_count": 18,
     "metadata": {},
     "output_type": "execute_result"
    }
   ],
   "source": [
    "games = [FairRoulette, EuRoulette, USARoulette]\n",
    "spinRange = [100, 1000, 10000, 100000]\n",
    "trials = 20\n",
    "runSim(games, trials, spinRange)"
   ]
  },
  {
   "cell_type": "code",
   "execution_count": 112,
   "metadata": {},
   "outputs": [
    {
     "name": "stdout",
     "output_type": "stream",
     "text": [
      "\n",
      "Simulating betting on pockets on 200, 100000 spins each.\n",
      "   Exp. result for Fair Roulette = -0.026560000000000014%\n",
      "   Exp. result for European Roulette = -2.562399999999999%\n",
      "   Exp. result for American Roulette = -5.073039999999999%\n"
     ]
    }
   ],
   "source": [
    "games = [FairRoulette, EuRoulette, USARoulette]\n",
    "spinRange = [100000]\n",
    "trials = 200\n",
    "runSim(games, trials, spinRange)"
   ]
  },
  {
   "cell_type": "code",
   "execution_count": 100,
   "metadata": {},
   "outputs": [
    {
     "name": "stdout",
     "output_type": "stream",
     "text": [
      "10000000 spins of Fair Roulette\n",
      "   Expected return of betting red         = -0.01888%\n",
      "   Expected return of betting black       = 0.01888%\n",
      "   Expected return of betting on a number = -0.10936%\n",
      "10000000 spins of Fair Roulette\n",
      "   Expected return of betting red         = -0.01138%\n",
      "   Expected return of betting black       = 0.01138%\n",
      "   Expected return of betting on a number = 0.63656%\n",
      "10000000 spins of Fair Roulette\n",
      "   Expected return of betting red         = 0.0635%\n",
      "   Expected return of betting black       = -0.0635%\n",
      "   Expected return of betting on a number = 0.25244%\n",
      "10000000 spins of Fair Roulette\n",
      "   Expected return of betting red         = 0.01196%\n",
      "   Expected return of betting black       = -0.01196%\n",
      "   Expected return of betting on a number = -0.13456%\n",
      "10000000 spins of Fair Roulette\n",
      "   Expected return of betting red         = 0.00904%\n",
      "   Expected return of betting black       = -0.00904%\n",
      "   Expected return of betting on a number = 0.0152%\n"
     ]
    }
   ],
   "source": [
    "for i in range(5):\n",
    "    play(FairRoulette, 10000000, True)"
   ]
  },
  {
   "cell_type": "code",
   "execution_count": 67,
   "metadata": {},
   "outputs": [
    {
     "name": "stdout",
     "output_type": "stream",
     "text": [
      "10000.0\n",
      "10200.0\n",
      "8400.0\n",
      "8000.0\n",
      "8000.0\n",
      "9600.0\n",
      "7000.0\n",
      "6000.0\n",
      "8600.0\n",
      "7800.0\n"
     ]
    }
   ],
   "source": [
    "fr = FairRoulette()\n",
    "amount = 10000\n",
    "for i in range(10):\n",
    "    for i in range(200):\n",
    "        fr.spin()\n",
    "        amount += fr.betBlack(100)\n",
    "    print(amount)"
   ]
  },
  {
   "cell_type": "code",
   "execution_count": 68,
   "metadata": {},
   "outputs": [
    {
     "name": "stdout",
     "output_type": "stream",
     "text": [
      "800\n",
      "-4800\n",
      "-21200\n",
      "-34000\n",
      "-14400\n",
      "-2000\n",
      "14000\n",
      "15600\n",
      "17200\n",
      "11600\n"
     ]
    }
   ],
   "source": [
    "fr = FairRoulette()\n",
    "amount = 10000\n",
    "pockets = list(range(1,37))\n",
    "for i in range(10):\n",
    "    for i in range(200):\n",
    "        bet = random.choice(pockets)\n",
    "        fr.spin()\n",
    "        amount += fr.betPocket(bet, 100)\n",
    "    print(amount)"
   ]
  },
  {
   "cell_type": "code",
   "execution_count": 104,
   "metadata": {},
   "outputs": [
    {
     "data": {
      "text/plain": [
       "(100.0, 57.445626465380286)"
      ]
     },
     "execution_count": 104,
     "metadata": {},
     "output_type": "execute_result"
    }
   ],
   "source": [
    "meanAndStdDev(list(range(1,200)))"
   ]
  },
  {
   "cell_type": "code",
   "execution_count": null,
   "metadata": {
    "collapsed": true
   },
   "outputs": [],
   "source": []
  }
 ],
 "metadata": {
  "kernelspec": {
   "display_name": "Python 3",
   "language": "python",
   "name": "python3"
  },
  "language_info": {
   "codemirror_mode": {
    "name": "ipython",
    "version": 3
   },
   "file_extension": ".py",
   "mimetype": "text/x-python",
   "name": "python",
   "nbconvert_exporter": "python",
   "pygments_lexer": "ipython3",
   "version": "3.6.2"
  }
 },
 "nbformat": 4,
 "nbformat_minor": 2
}
