{
 "cells": [
  {
   "cell_type": "code",
   "execution_count": 10,
   "metadata": {
    "collapsed": true
   },
   "outputs": [],
   "source": [
    "# Compute the coefficient of variation of [10, 4, 12, 15, 20, 5] to 3 decimal places.\n",
    "def coeffVar(L):\n",
    "    mean = sum(L)/len(L)\n",
    "    std = (sum([(x - mean)**2 for x in L])/len(L))**.5\n",
    "    return std / mean"
   ]
  },
  {
   "cell_type": "code",
   "execution_count": 12,
   "metadata": {},
   "outputs": [
    {
     "name": "stdout",
     "output_type": "stream",
     "text": [
      "Coefficient of Variation for L: 0.5034317492677621\n"
     ]
    }
   ],
   "source": [
    "L = [10, 4, 12, 15, 20, 5]\n",
    "print(\"Coefficient of Variation for L:\", coeffVar(L))"
   ]
  },
  {
   "cell_type": "code",
   "execution_count": null,
   "metadata": {
    "collapsed": true
   },
   "outputs": [],
   "source": []
  }
 ],
 "metadata": {
  "kernelspec": {
   "display_name": "Python 3",
   "language": "python",
   "name": "python3"
  },
  "language_info": {
   "codemirror_mode": {
    "name": "ipython",
    "version": 3
   },
   "file_extension": ".py",
   "mimetype": "text/x-python",
   "name": "python",
   "nbconvert_exporter": "python",
   "pygments_lexer": "ipython3",
   "version": "3.6.2"
  }
 },
 "nbformat": 4,
 "nbformat_minor": 2
}
