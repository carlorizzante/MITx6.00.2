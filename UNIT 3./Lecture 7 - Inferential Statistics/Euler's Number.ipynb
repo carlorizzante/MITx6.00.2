{
 "cells": [
  {
   "cell_type": "code",
   "execution_count": 32,
   "metadata": {
    "collapsed": true
   },
   "outputs": [],
   "source": [
    "# 2.7182818284590452353602874713527\n",
    "\n",
    "fact_memo = {}\n",
    "def fact(n):\n",
    "    if n <= 1:\n",
    "        return 1\n",
    "    try:\n",
    "        return fact_memo[n]\n",
    "    except:\n",
    "        result = fact(n-1) + fact(n-2)\n",
    "        fact_memo[n] = result\n",
    "        return result\n",
    "\n",
    "def euler(n):\n",
    "    e = 0\n",
    "    while n > 0:\n",
    "        e += 1 / fact(n)\n",
    "        n -= 1\n",
    "    return e\n",
    "\n",
    "def euler2(n):\n",
    "    return (1 + 1/n)**n"
   ]
  },
  {
   "cell_type": "code",
   "execution_count": 65,
   "metadata": {},
   "outputs": [
    {
     "name": "stdout",
     "output_type": "stream",
     "text": [
      "Eluler's number to 100        2.7048138294215285 delta = -0.01346799903751661\n",
      "Eluler's number to 10000      2.7181459268249255 delta = -0.000135901634119584\n",
      "Eluler's number to 1000000    2.7182804690957534 delta = -1.359363291708604e-06\n",
      "Eluler's number to 100000000  2.7182817983473577 delta = -3.011168736577474e-08\n"
     ]
    }
   ],
   "source": [
    "real_e = 2.7182818284590452353602874713527\n",
    "for i in range(1,5):\n",
    "    n = 100**i\n",
    "    e = euler2(n)\n",
    "    space = \"  \" * (4 - i)\n",
    "    print(\"Eluler's number to\", n, space, e, \"delta =\", e - real_e)"
   ]
  },
  {
   "cell_type": "code",
   "execution_count": null,
   "metadata": {
    "collapsed": true
   },
   "outputs": [],
   "source": [
    "# 2.718281 8284590452353602874713527\n",
    "# 2.718281 7983473577"
   ]
  },
  {
   "cell_type": "code",
   "execution_count": 31,
   "metadata": {},
   "outputs": [
    {
     "name": "stdout",
     "output_type": "stream",
     "text": [
      "Eluler's number to 1000 2.3598856662431773\n",
      "Eluler's number to 2000 2.3598856662431773\n",
      "Eluler's number to 3000 2.3598856662431773\n",
      "Eluler's number to 4000 2.3598856662431773\n",
      "Eluler's number to 5000 2.3598856662431773\n",
      "Eluler's number to 6000 2.3598856662431773\n",
      "Eluler's number to 7000 2.3598856662431773\n",
      "Eluler's number to 8000 2.3598856662431773\n",
      "Eluler's number to 9000 2.3598856662431773\n"
     ]
    }
   ],
   "source": [
    "for i in range(1000,10000,1000):\n",
    "    print(\"Eluler's number to\", i, euler(i))"
   ]
  },
  {
   "cell_type": "code",
   "execution_count": 40,
   "metadata": {},
   "outputs": [
    {
     "name": "stdout",
     "output_type": "stream",
     "text": [
      "Euler's Number to 1000 2.7169239322355936\n",
      "Euler's Number to 2000 2.7176025693228403\n",
      "Euler's Number to 3000 2.7178289198743233\n",
      "Euler's Number to 4000 2.717942121080266\n",
      "Euler's Number to 5000 2.718010050101555\n",
      "Euler's Number to 6000 2.718055339575291\n",
      "Euler's Number to 7000 2.718087690895448\n",
      "Euler's Number to 8000 2.7181119553078\n",
      "Euler's Number to 9000 2.7181308281830128\n"
     ]
    }
   ],
   "source": [
    "for i in range(1000,10000,1000):\n",
    "    print(\"Euler's Number to\", i, euler2(i))"
   ]
  },
  {
   "cell_type": "code",
   "execution_count": 46,
   "metadata": {},
   "outputs": [
    {
     "name": "stdout",
     "output_type": "stream",
     "text": [
      "Euler's Number to 9000 2.7182682371922975\n",
      "Euler's Number to 9000 2.7182804690957534\n",
      "Euler's Number to 9000 2.7182816941320818\n",
      "Euler's Number to 9000 2.7182817983473577\n",
      "Euler's Number to 9000 2.7182820520115603\n"
     ]
    }
   ],
   "source": [
    "# 2.7182818284590452353602874713527\n",
    "print(\"Euler's Number to\", i, euler2(100000))\n",
    "print(\"Euler's Number to\", i, euler2(1000000))\n",
    "print(\"Euler's Number to\", i, euler2(10000000))\n",
    "print(\"Euler's Number to\", i, euler2(100000000))\n",
    "print(\"Euler's Number to\", i, euler2(1000000000))"
   ]
  },
  {
   "cell_type": "code",
   "execution_count": null,
   "metadata": {
    "collapsed": true
   },
   "outputs": [],
   "source": []
  }
 ],
 "metadata": {
  "kernelspec": {
   "display_name": "Python 3",
   "language": "python",
   "name": "python3"
  },
  "language_info": {
   "codemirror_mode": {
    "name": "ipython",
    "version": 3
   },
   "file_extension": ".py",
   "mimetype": "text/x-python",
   "name": "python",
   "nbconvert_exporter": "python",
   "pygments_lexer": "ipython3",
   "version": "3.6.2"
  }
 },
 "nbformat": 4,
 "nbformat_minor": 2
}
