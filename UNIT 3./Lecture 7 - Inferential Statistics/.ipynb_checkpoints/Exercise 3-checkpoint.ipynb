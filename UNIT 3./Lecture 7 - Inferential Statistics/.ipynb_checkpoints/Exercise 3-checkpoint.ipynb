{
 "cells": [
  {
   "cell_type": "code",
   "execution_count": 16,
   "metadata": {},
   "outputs": [],
   "source": [
    "# Write a function, stdDevOfLengths(L) that takes in a list of strings, L,\n",
    "# and outputs the standard deviation of the lengths of the strings. Return float('NaN') if L is empty.\n",
    "\n",
    "def stdDevOfLengths(L):\n",
    "    \"\"\" L is a list of strings.\n",
    "        Returns the standard deviation of the lenghts of the strings, NaN is L is empty.\"\"\"\n",
    "    if len(L) == 0:\n",
    "        return float('NaN')\n",
    "    L2 = [len(s) for s in L]      # Extract length of each string in L\n",
    "    mean = sum(L2) / len(L2)      # Calc mean\n",
    "    return (sum([(x-mean)**2 for x in L2])/len(L2))**.5  # Calc and return Std Deviation"
   ]
  },
  {
   "cell_type": "code",
   "execution_count": 17,
   "metadata": {},
   "outputs": [
    {
     "data": {
      "text/plain": [
       "2.614064523559687"
      ]
     },
     "execution_count": 17,
     "metadata": {},
     "output_type": "execute_result"
    }
   ],
   "source": [
    "L = [\"Cum\", \"sociis\", \"natoque\", \"penatibus\", \"et\", \"magnis\", \"dis\", \"parturient\", \"montes\", \"nascetur\", \"ridiculus\", \"mus\"]\n",
    "stdDevOfLengths(L)"
   ]
  },
  {
   "cell_type": "code",
   "execution_count": 18,
   "metadata": {},
   "outputs": [
    {
     "data": {
      "text/plain": [
       "1.8708286933869707"
      ]
     },
     "execution_count": 18,
     "metadata": {},
     "output_type": "execute_result"
    }
   ],
   "source": [
    "L = ['apples', 'oranges', 'kiwis', 'pineapples']\n",
    "stdDevOfLengths(L)"
   ]
  },
  {
   "cell_type": "code",
   "execution_count": null,
   "metadata": {
    "collapsed": true
   },
   "outputs": [],
   "source": []
  }
 ],
 "metadata": {
  "kernelspec": {
   "display_name": "Python 3",
   "language": "python",
   "name": "python3"
  },
  "language_info": {
   "codemirror_mode": {
    "name": "ipython",
    "version": 3
   },
   "file_extension": ".py",
   "mimetype": "text/x-python",
   "name": "python",
   "nbconvert_exporter": "python",
   "pygments_lexer": "ipython3",
   "version": "3.6.2"
  }
 },
 "nbformat": 4,
 "nbformat_minor": 2
}
