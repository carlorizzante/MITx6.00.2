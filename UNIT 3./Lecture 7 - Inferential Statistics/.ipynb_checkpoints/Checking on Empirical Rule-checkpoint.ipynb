{
 "cells": [
  {
   "cell_type": "code",
   "execution_count": 11,
   "metadata": {},
   "outputs": [
    {
     "name": "stdout",
     "output_type": "stream",
     "text": [
      "\n",
      "For mu = -60 and Sigma = 59\n",
      "  Fraction within 1.0 std = 0.6827\n",
      "  Fraction within 1.96 std = 0.95\n",
      "  Fraction within 3.0 std = 0.9973\n",
      "\n",
      "For mu = 34 and Sigma = 7\n",
      "  Fraction within 1.0 std = 0.6827\n",
      "  Fraction within 1.96 std = 0.95\n",
      "  Fraction within 3.0 std = 0.9973\n",
      "\n",
      "For mu = -98 and Sigma = 26\n",
      "  Fraction within 1.0 std = 0.6827\n",
      "  Fraction within 1.96 std = 0.95\n",
      "  Fraction within 3.0 std = 0.9973\n"
     ]
    }
   ],
   "source": [
    "import random, pylab\n",
    "import scipy.integrate\n",
    "quad = scipy.integrate.quad\n",
    "\n",
    "def gaussian(x, mu, sigma):\n",
    "    factor1 = (1.0/(sigma*((2*pylab.pi)**.5)))\n",
    "    factor2 = pylab.e**-(((x-mu)**2)/(2*sigma**2))\n",
    "    return factor1 * factor2\n",
    "\n",
    "def checkEmRule(trials):\n",
    "    for trial in range(trials):\n",
    "        mu = random.randint(-100, 100)\n",
    "        sigma = random.randint(1, 100)\n",
    "        print(\"\\nFor mu =\", mu, \"and Sigma =\", sigma, )\n",
    "        for std in [1.00, 1.96, 3.00]:\n",
    "            area = quad(gaussian, mu-std*sigma, mu+std*sigma, (mu, sigma))[0]\n",
    "            print(\"  Fraction within\", std, \"std =\", round(area, 4))\n",
    "\n",
    "checkEmRule(3)"
   ]
  },
  {
   "cell_type": "code",
   "execution_count": null,
   "metadata": {
    "collapsed": true
   },
   "outputs": [],
   "source": []
  }
 ],
 "metadata": {
  "kernelspec": {
   "display_name": "Python 3",
   "language": "python",
   "name": "python3"
  },
  "language_info": {
   "codemirror_mode": {
    "name": "ipython",
    "version": 3
   },
   "file_extension": ".py",
   "mimetype": "text/x-python",
   "name": "python",
   "nbconvert_exporter": "python",
   "pygments_lexer": "ipython3",
   "version": "3.6.2"
  }
 },
 "nbformat": 4,
 "nbformat_minor": 2
}
