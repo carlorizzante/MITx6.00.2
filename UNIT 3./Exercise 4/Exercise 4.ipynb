{
 "cells": [
  {
   "cell_type": "code",
   "execution_count": 85,
   "metadata": {
    "collapsed": true
   },
   "outputs": [],
   "source": [
    "# You have a bucket with 3 red balls and 3 green balls. Assume that once you draw a ball out of the bucket, \n",
    "# you don't replace it. What is the probability of drawing 3 balls of the same color?\n",
    "# Write a Monte Carlo simulation to solve the above problem. Feel free to write a helper function if you wish.\n",
    "\n",
    "import random\n",
    "\n",
    "def noReplacementSimulation(trials):\n",
    "    '''\n",
    "    Runs # trials of a Monte Carlo simulation\n",
    "    of drawing 3 balls out of a bucket containing\n",
    "    3 red and 3 green balls. Balls are not replaced once\n",
    "    drawn. Returns the a decimal - the fraction of times 3 \n",
    "    balls of the same color were drawn.\n",
    "    '''\n",
    "    success = 0                  # Number of times we pick balls of the same color\n",
    "    for t in range(trials):\n",
    "        bucket = [0,0,0,1,1,1]   # Reset bucket with 3 red and 3 blue balls, as 0 and 1\n",
    "        for i in range(3):       # Remove 3 random balls from the bucket\n",
    "            bucket.remove(random.choice([0,1]))\n",
    "        result = sum(bucket)     # Sum value of balls still in the bucket\n",
    "        if result == 0 or result == 3:\n",
    "            success += 1         # Count +1 if success\n",
    "    return success / trials\n",
    "\n",
    "def noReplacementSimulation2(trials):\n",
    "    '''\n",
    "    Runs # trials of a Monte Carlo simulation\n",
    "    of drawing 3 balls out of a bucket containing\n",
    "    3 red and 3 green balls. Balls are not replaced once\n",
    "    drawn. Returns the a decimal - the fraction of times 3 \n",
    "    balls of the same color were drawn.\n",
    "    '''\n",
    "    success = 0                  # Number of times we pick balls of the same color\n",
    "    for t in range(trials):\n",
    "        bucket = [0,0,0,1,1,1]   # Reset order of balls in bucket\n",
    "        random.shuffle(bucket)   # Shuffle bucket\n",
    "        result = sum(bucket[:3]) # Sum value of first three balls\n",
    "        if result == 0 or result == 3:\n",
    "            success += 1         # Count +1 if success\n",
    "    return success / trials"
   ]
  },
  {
   "cell_type": "code",
   "execution_count": 86,
   "metadata": {},
   "outputs": [
    {
     "name": "stdout",
     "output_type": "stream",
     "text": [
      "0.2511499999999998\n",
      "0.10099999999999942\n"
     ]
    }
   ],
   "source": [
    "result = []\n",
    "for i in range(1000):\n",
    "    result.append(noReplacementSimulation(20))\n",
    "print(sum(result)/len(result))\n",
    "\n",
    "result = []\n",
    "for i in range(1000):\n",
    "    result.append(noReplacementSimulation2(20))\n",
    "print(sum(result)/len(result))"
   ]
  },
  {
   "cell_type": "code",
   "execution_count": null,
   "metadata": {
    "collapsed": true
   },
   "outputs": [],
   "source": []
  },
  {
   "cell_type": "code",
   "execution_count": null,
   "metadata": {
    "collapsed": true
   },
   "outputs": [],
   "source": []
  }
 ],
 "metadata": {
  "kernelspec": {
   "display_name": "Python 3",
   "language": "python",
   "name": "python3"
  },
  "language_info": {
   "codemirror_mode": {
    "name": "ipython",
    "version": 3
   },
   "file_extension": ".py",
   "mimetype": "text/x-python",
   "name": "python",
   "nbconvert_exporter": "python",
   "pygments_lexer": "ipython3",
   "version": "3.6.2"
  }
 },
 "nbformat": 4,
 "nbformat_minor": 2
}
