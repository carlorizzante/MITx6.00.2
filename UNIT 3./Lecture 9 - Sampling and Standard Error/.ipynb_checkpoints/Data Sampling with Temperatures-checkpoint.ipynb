{
 "cells": [
  {
   "cell_type": "code",
   "execution_count": 4,
   "metadata": {},
   "outputs": [],
   "source": [
    "import numpy\n",
    "\n",
    "def makeHist(data, title, xlabel, ylabel, bins=20):\n",
    "    pylab.hist(data, bins=bins)\n",
    "    pylab.title(title)\n",
    "    pylab.xlabel(xlabel)\n",
    "    pylab.ylabel(ylabel)\n",
    "    pylab.show()\n",
    "    \n",
    "def getHighs():\n",
    "    file = open(\"temperatures.csv\")\n",
    "    population = []\n",
    "    for line in file:\n",
    "        try:\n",
    "            temp = float.line.split(\",\")[1]\n",
    "            population.append(temp)\n",
    "        except:\n",
    "            continue\n",
    "    return population\n",
    "\n",
    "def run(population, sample, verbose = False):\n",
    "    popMean = sum(population)/len(population)\n",
    "    samMean = sum(population)/len(population)\n",
    "    if verbose:\n",
    "        makeHist(population, \"Daily Highs, Population (\" + str(round(popMean, 2)) + \")\", \"Degree\", \"Days\")\n",
    "        mekeHist(sample, \"Daily Highs, Sample (\" + str(round(samMean, 2)) + \")\", \"Degree\", \"Days\")\n",
    "        print(\"Population mean =\", popMean, \"StDev =\", numpy.std(population))\n",
    "        print(\"Sample mean =\", samMean, \"StDev =\", numpy.std(sample))\n",
    "    return popMean, samMean, numpy.std(population), numpy.std(sample)\n",
    "    "
   ]
  },
  {
   "cell_type": "code",
   "execution_count": null,
   "metadata": {
    "collapsed": true
   },
   "outputs": [],
   "source": []
  }
 ],
 "metadata": {
  "kernelspec": {
   "display_name": "Python 3",
   "language": "python",
   "name": "python3"
  },
  "language_info": {
   "codemirror_mode": {
    "name": "ipython",
    "version": 3
   },
   "file_extension": ".py",
   "mimetype": "text/x-python",
   "name": "python",
   "nbconvert_exporter": "python",
   "pygments_lexer": "ipython3",
   "version": "3.6.2"
  }
 },
 "nbformat": 4,
 "nbformat_minor": 2
}
