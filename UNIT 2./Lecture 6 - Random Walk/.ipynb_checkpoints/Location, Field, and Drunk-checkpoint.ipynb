{
 "cells": [
  {
   "cell_type": "code",
   "execution_count": 1,
   "metadata": {
    "collapsed": true
   },
   "outputs": [],
   "source": [
    "import random, pylab\n",
    "\n",
    "def mean(sample):\n",
    "    return sum(sample)/len(sample)\n",
    "\n",
    "class Location(object):\n",
    "    def __init__(self,x,y):\n",
    "        \"\"\" Assumes x, y to be floats.\"\"\"\n",
    "        self.x = x\n",
    "        self.y = y\n",
    "        \n",
    "    def move(self, dX, dY):\n",
    "        \"\"\" Assumes dX, dY to be floats.\"\"\"\n",
    "        return Location(self.x + dX, self.y + dY)\n",
    "    \n",
    "    def getX(self):\n",
    "        return self.x\n",
    "    \n",
    "    def getY(self):\n",
    "        return self.y\n",
    "    \n",
    "    def getXY(self):\n",
    "        return self.x, self.y\n",
    "    \n",
    "    def distance(self, other):\n",
    "        return ((self.x-other.x)**2 + (self.y-other.y)**2)**.5\n",
    "    \n",
    "    def __str__(self):\n",
    "        return \"<\" + str(self.x) + \",\" + str(self.y) + \">\"\n",
    "    \n",
    "class Field(object):\n",
    "    def __init__(self):\n",
    "        self.drunks = {}\n",
    "    \n",
    "    def addDrunk(self, drunk, location):\n",
    "        if drunk in self.drunks:\n",
    "            raise ValueError(\"Duplicated drunk\")\n",
    "        else:\n",
    "            self.drunks[drunk] = location\n",
    "    \n",
    "    def getLocation(self, drunk):\n",
    "        if drunk not in self.drunks:\n",
    "            raise ValueError(\"Drunk not found\")\n",
    "        else:\n",
    "            return self.drunks[drunk]  \n",
    "    \n",
    "    def moveDrunk(self, drunk):\n",
    "        if drunk not in self.drunks:\n",
    "            raise ValueError(\"Drunk not found\")\n",
    "        else:\n",
    "            dX, dY = drunk.walk()\n",
    "            currentLocation = self.drunks[drunk]\n",
    "            self.drunks[drunk] = currentLocation.move(dX, dY)\n",
    "\n",
    "class OddField(Field):\n",
    "    def __init__(self, wormholes = 1000, xRange = 100, yRange = 100):\n",
    "        Field.__init__(self)\n",
    "        self.wormholes = {}\n",
    "        for wormhole in range(wormholes):\n",
    "            x = random.randint(-xRange,xRange)\n",
    "            y = random.randint(-yRange,yRange)\n",
    "            newX = random.randint(-xRange,xRange)\n",
    "            newY = random.randint(-yRange,yRange)\n",
    "            self.wormholes[x,y] = (newX,newY)\n",
    "    \n",
    "    def moveDrunk(self, drunk):\n",
    "        Field.moveDrunk(self, drunk)\n",
    "        x,y = self.drunks[drunk].getXY()\n",
    "        if (x,y) in self.wormholes:\n",
    "            self.drunks[drunk] = self.wormholes[(x,y)]\n",
    "\n",
    "class Drunk(object):\n",
    "    def __init__(self, name):\n",
    "        self.name = name\n",
    "        \n",
    "    def __str__(self):\n",
    "        return self.name + \" is rather drunk.\"\n",
    "\n",
    "class BasicDrunk(Drunk):\n",
    "    def walk(self):\n",
    "        return random.choice([(0.0,1.0),(0.0,-1.0),(1.0,0.0),(-1.0,0.0)])\n",
    "\n",
    "class SouthDrunk(Drunk):\n",
    "    def walk(self):\n",
    "        return random.choice([(0.0,0.9),(0.0,-1.1),(1.0,0.0),(-1.0,0.0)])\n",
    "    \n",
    "def walk(field, drunk, steps):\n",
    "    \"\"\" Assumes field to be a Field, drunk a Drunk, and steps int >= 0.\n",
    "        Makes drunk walk steps times.\n",
    "        Returns distance from start to end of the simulated walk.\"\"\"\n",
    "    start = field.getLocation(drunk)\n",
    "    for step in range(steps):\n",
    "        field.moveDrunk(drunk)\n",
    "    end = field.getLocation(drunk)\n",
    "    return start.distance(end), end\n",
    "\n",
    "def simWalks(steps, trials, drunk, pr=False):\n",
    "    \"\"\" Assumes steps int >=0, trials int >0, drunk a subclass of Drunk.\n",
    "        Simulates #trials walks of #steps for the given Drunk.\n",
    "        Returns list of final distances walked on each trial.\"\"\"\n",
    "    drunk = drunk(\"Jon\")       # Initialize given Drunk, why \"Jon\"..?\n",
    "    origin = Location(0,0)     # Start from the center\n",
    "    distances = []             # List of final distancess\n",
    "    locations = []             # List of final locations of drunks after their walk\n",
    "    if pr:\n",
    "        print(\" .  .  Simulating\", steps, \"steps\", trials, \"times\")\n",
    "    for trial in range(trials):\n",
    "        field = Field()                       # Create new Field\n",
    "        field.addDrunk(drunk, origin)         # Add Drunk at the center\n",
    "        distance, location = walk(field, drunk, steps)  # Simulate walk\n",
    "        distances.append(round(distance, 1))  # Add walk to the list of final walked distances\n",
    "        locations.append(location)            # Add current drunk location to list of final locations\n",
    "    return distances, locations               # Return list of walked distances and final locations\n",
    "\n",
    "def drunkTest(walks, trials, drunk):\n",
    "    \"\"\" Assumes walks a list of ints >=0, trials int >0, drunk a subclass of Drunk.\n",
    "        Runs simWalks for each given walk and prints result.\"\"\"\n",
    "    for steps in walks:\n",
    "        distances, none = simWalks(steps, trials, drunk)\n",
    "        print(drunk.__name__, \"random walk of\", steps, \"steps\")\n",
    "        print(\" . \", \"Mean =\", round(mean(distances), 4), \"\\n .  Max =\", max(distances), \"Min =\", min(distances))\n",
    "        \n",
    "def drunkTestAll(walks, trials, drunks):\n",
    "    for drunk in drunks:\n",
    "        print()\n",
    "        drunkTest(walks, trials, drunk)\n",
    "        \n",
    "class styleIterator(object):\n",
    "    def __init__(self, styles):\n",
    "        self.index = 0\n",
    "        self.styles = styles\n",
    "        self.len = len(styles)\n",
    "\n",
    "    def next(self):\n",
    "        result = self.styles[self.index % self.len]\n",
    "        self.index += 1\n",
    "        return result\n",
    "    \n",
    "def simDrunk(walks, trials, drunk, pr=False):\n",
    "    means, locations = [],[]\n",
    "    if pr:\n",
    "        print(\"Starting simulation of\", drunk.__name__)\n",
    "    for steps in walks:\n",
    "        distance, location = simWalks(steps, trials, drunk, pr)\n",
    "        means.append(mean(distance))\n",
    "        locations.append(location)\n",
    "    return means, locations\n",
    "    \n",
    "def testPlotAll(walks, trials, drunks):\n",
    "    styles = styleIterator([\"m-\", \"b--\", \"g-\"])\n",
    "    for drunk in drunks:\n",
    "        style = styles.next()\n",
    "        means, none = simDrunk(walks, trials, drunk)\n",
    "        label = drunk.__name__\n",
    "        pylab.plot(walks, means, style, label=label)\n",
    "    pylab.title(\"Mean Distance from Origin (\" + str(trials) + \" steps)\")\n",
    "    pylab.xlabel(\"Number of steps\")\n",
    "    pylab.ylabel(\"Distance from origin\")\n",
    "    pylab.legend(loc=\"best\")\n",
    "    pylab.show()\n",
    "    \n",
    "def plotLocations(steps, trials, drunks):\n",
    "    styles = styleIterator([\"k+\", \"r^\", \"mo\"])\n",
    "    for drunk in drunks:\n",
    "        none, locations = simWalks(steps, trials, drunk, True)\n",
    "        xVals, yVals = [],[]\n",
    "        for end in locations:\n",
    "            x,y = end.getXY()\n",
    "            xVals.append(x)\n",
    "            yVals.append(y)\n",
    "        xVals = pylab.array(xVals)\n",
    "        yVals = pylab.array(yVals)\n",
    "        meanX = sum(abs(xVals))/len(xVals)\n",
    "        meanY = sum(abs(yVals))/len(yVals)\n",
    "        style = styles.next()\n",
    "        label = drunk.__name__ + \" mean abs distance = <\" + str(meanX) + \",\" + str(meanY) + \">\"\n",
    "        pylab.plot(xVals, yVals, style, label=label)\n",
    "    pylab.title(\"Locations at End of Walks (\" + str(steps) + \" steps)\")\n",
    "#     pylab.xlim(-1*steps/20, steps/20)\n",
    "#     pylab.ylim(-1*steps/20, steps/20)\n",
    "    pylab.xlabel(\"Steps East/West of origin\")\n",
    "    pylab.ylabel(\"Steps North/South of origin\")\n",
    "    pylab.legend(loc=\"upper left\")\n",
    "    pylab.show()"
   ]
  },
  {
   "cell_type": "code",
   "execution_count": 195,
   "metadata": {},
   "outputs": [
    {
     "name": "stdout",
     "output_type": "stream",
     "text": [
      "BasicDrunk random walk of 10 steps\n",
      " .  Mean = 2.863 \n",
      " .  Max = 7.2 Min = 0.0\n",
      "BasicDrunk random walk of 100 steps\n",
      " .  Mean = 8.296 \n",
      " .  Max = 21.6 Min = 1.4\n",
      "BasicDrunk random walk of 1000 steps\n",
      " .  Mean = 27.297 \n",
      " .  Max = 66.3 Min = 4.2\n",
      "BasicDrunk random walk of 10000 steps\n",
      " .  Mean = 89.241 \n",
      " .  Max = 226.5 Min = 10.0\n"
     ]
    }
   ],
   "source": [
    "random.seed(0)\n",
    "drunkTest([10,100,1000,10000], 100, BasicDrunk)"
   ]
  },
  {
   "cell_type": "code",
   "execution_count": 196,
   "metadata": {},
   "outputs": [
    {
     "name": "stdout",
     "output_type": "stream",
     "text": [
      "\n",
      "BasicDrunk random walk of 10 steps\n",
      " .  Mean = 2.863 \n",
      " .  Max = 7.2 Min = 0.0\n",
      "BasicDrunk random walk of 100 steps\n",
      " .  Mean = 8.296 \n",
      " .  Max = 21.6 Min = 1.4\n",
      "BasicDrunk random walk of 1000 steps\n",
      " .  Mean = 27.297 \n",
      " .  Max = 66.3 Min = 4.2\n",
      "BasicDrunk random walk of 10000 steps\n",
      " .  Mean = 89.241 \n",
      " .  Max = 226.5 Min = 10.0\n",
      "\n",
      "SouthDrunk random walk of 10 steps\n",
      " .  Mean = 2.677 \n",
      " .  Max = 6.3 Min = 0.2\n",
      "SouthDrunk random walk of 100 steps\n",
      " .  Mean = 9.783 \n",
      " .  Max = 22.9 Min = 0.4\n",
      "SouthDrunk random walk of 1000 steps\n",
      " .  Mean = 52.953 \n",
      " .  Max = 115.1 Min = 8.6\n",
      "SouthDrunk random walk of 10000 steps\n",
      " .  Mean = 495.024 \n",
      " .  Max = 659.3 Min = 340.0\n"
     ]
    }
   ],
   "source": [
    "random.seed(0)\n",
    "walks = [10,100,1000,10000]\n",
    "trials = 100\n",
    "drunks = [BasicDrunk, SouthDrunk]\n",
    "drunkTestAll(walks, trials, drunks)"
   ]
  },
  {
   "cell_type": "code",
   "execution_count": 168,
   "metadata": {},
   "outputs": [
    {
     "data": {
      "image/png": "[encoded data removed]",
      "text/plain": [
       "<matplotlib.figure.Figure at 0x10be33048>"
      ]
     },
     "metadata": {},
     "output_type": "display_data"
    }
   ],
   "source": [
    "steps = [10,100,1000,10000]\n",
    "trials = 100\n",
    "drunks = [BasicDrunk, SouthDrunk]\n",
    "random.seed(0)\n",
    "testPlotAll(steps, trials, drunks)"
   ]
  },
  {
   "cell_type": "code",
   "execution_count": 176,
   "metadata": {},
   "outputs": [
    {
     "name": "stdout",
     "output_type": "stream",
     "text": [
      " .  .  Simulating 10000 steps 1000 times\n",
      " .  .  Simulating 10000 steps 1000 times\n"
     ]
    },
    {
     "data": {
      "image/png": "[encoded data removed]",
      "text/plain": [
       "<matplotlib.figure.Figure at 0x10bdbbac8>"
      ]
     },
     "metadata": {},
     "output_type": "display_data"
    }
   ],
   "source": [
    "steps = 10000\n",
    "trials = 1000\n",
    "drunks = [BasicDrunk, SouthDrunk]\n",
    "random.seed(0)\n",
    "plotLocations(steps, trials, drunks)"
   ]
  },
  {
   "cell_type": "code",
   "execution_count": null,
   "metadata": {},
   "outputs": [],
   "source": []
  },
  {
   "cell_type": "code",
   "execution_count": 190,
   "metadata": {},
   "outputs": [
    {
     "data": {
      "text/plain": [
       "'OddField'"
      ]
     },
     "execution_count": 190,
     "metadata": {},
     "output_type": "execute_result"
    }
   ],
   "source": [
    "Field.__name__\n",
    "OddField.__name__"
   ]
  },
  {
   "cell_type": "code",
   "execution_count": 201,
   "metadata": {},
   "outputs": [
    {
     "name": "stdout",
     "output_type": "stream",
     "text": [
      "5\n"
     ]
    }
   ],
   "source": [
    "random.seed(9001)\n",
    "for i in range(random.randint(1, 10)):\n",
    "    print(random.randint(1, 10))"
   ]
  },
  {
   "cell_type": "code",
   "execution_count": 199,
   "metadata": {},
   "outputs": [
    {
     "name": "stdout",
     "output_type": "stream",
     "text": [
      "1\n",
      "1\n",
      "1\n",
      "1\n",
      "1\n"
     ]
    }
   ],
   "source": [
    "random.seed(9001)\n",
    "d = random.randint(1, 10)\n",
    "for i in range(random.randint(1, 10)):\n",
    "    print(d)"
   ]
  },
  {
   "cell_type": "code",
   "execution_count": 202,
   "metadata": {},
   "outputs": [
    {
     "name": "stdout",
     "output_type": "stream",
     "text": [
      "1\n",
      "1\n",
      "5\n",
      "1\n",
      "1\n"
     ]
    }
   ],
   "source": [
    "random.seed(9001)\n",
    "d = random.randint(1, 10)\n",
    "for i in range(random.randint(1, 10)):\n",
    "    if random.randint(1, 10) < 7:\n",
    "        print(d)\n",
    "    else:\n",
    "        random.seed(9001)\n",
    "        d = random.randint(1, 10)\n",
    "        print(random.randint(1, 10))"
   ]
  },
  {
   "cell_type": "code",
   "execution_count": null,
   "metadata": {
    "collapsed": true
   },
   "outputs": [],
   "source": []
  }
 ],
 "metadata": {
  "kernelspec": {
   "display_name": "Python 3",
   "language": "python",
   "name": "python3"
  },
  "language_info": {
   "codemirror_mode": {
    "name": "ipython",
    "version": 3
   },
   "file_extension": ".py",
   "mimetype": "text/x-python",
   "name": "python",
   "nbconvert_exporter": "python",
   "pygments_lexer": "ipython3",
   "version": "3.6.2"
  }
 },
 "nbformat": 4,
 "nbformat_minor": 2
}
