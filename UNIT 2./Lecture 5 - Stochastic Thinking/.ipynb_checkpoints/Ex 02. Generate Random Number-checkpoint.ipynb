{
 "cells": [
  {
   "cell_type": "code",
   "execution_count": 11,
   "metadata": {
    "collapsed": true
   },
   "outputs": [],
   "source": [
    "import random\n",
    "def genEven():\n",
    "    '''\n",
    "    Returns a random even number x, where 0 <= x < 100\n",
    "    '''\n",
    "    return 2*random.randrange(0,50)\n",
    "\n",
    "import random\n",
    "def stochasticNumber():\n",
    "    '''\n",
    "    Stochastically generates and returns a uniformly distributed even number between 9 and 21\n",
    "    '''\n",
    "    return 2*random.randrange(5,11)"
   ]
  },
  {
   "cell_type": "code",
   "execution_count": 9,
   "metadata": {},
   "outputs": [],
   "source": []
  },
  {
   "cell_type": "code",
   "execution_count": null,
   "metadata": {
    "collapsed": true
   },
   "outputs": [],
   "source": []
  }
 ],
 "metadata": {
  "kernelspec": {
   "display_name": "Python 3",
   "language": "python",
   "name": "python3"
  },
  "language_info": {
   "codemirror_mode": {
    "name": "ipython",
    "version": 3
   },
   "file_extension": ".py",
   "mimetype": "text/x-python",
   "name": "python",
   "nbconvert_exporter": "python",
   "pygments_lexer": "ipython3",
   "version": "3.6.2"
  }
 },
 "nbformat": 4,
 "nbformat_minor": 2
}
