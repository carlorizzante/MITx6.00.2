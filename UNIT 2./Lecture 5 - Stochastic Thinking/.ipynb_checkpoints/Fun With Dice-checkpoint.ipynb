{
 "cells": [
  {
   "cell_type": "code",
   "execution_count": 23,
   "metadata": {},
   "outputs": [],
   "source": [
    "import random\n",
    "\n",
    "def rollDie():\n",
    "    \"\"\" Simulates the roll of six-face die.\n",
    "        Returns int [1,6]\"\"\"\n",
    "    return random.choice([1,2,3,4,5,6])\n",
    "\n",
    "def runSim(goal, trials):\n",
    "    total = 0\n",
    "    for i in range(trials):\n",
    "        result = \"\"\n",
    "        for j in range(len(goal)):\n",
    "            result += str(rollDie())\n",
    "        if result == goal:\n",
    "            total += 1\n",
    "    actualProbability = round(1/(6**len(goal)), 6)\n",
    "    print(\"Actual probability   =\", actualProbability)\n",
    "    estimateProbability = round(total/trials, 6)\n",
    "    print(\"Estimate probability =\", estimateProbability)\n",
    "    \n",
    "def runSimBoxcars(trials):\n",
    "    total = 0\n",
    "    for i in range(trials):\n",
    "        if rollDie() == 6 and rollDie() == 6:\n",
    "            total += 1\n",
    "    result = total/trials\n",
    "    print(\"Frequency of a double six =\", str(round(result*100, 6)) + \"%\")"
   ]
  },
  {
   "cell_type": "code",
   "execution_count": 11,
   "metadata": {},
   "outputs": [
    {
     "name": "stdout",
     "output_type": "stream",
     "text": [
      "\n",
      "Actual probability   = 0.000772\n",
      "Estimate probability = 0.000751\n",
      "\n",
      "Actual probability   = 0.000772\n",
      "Estimate probability = 0.00076\n",
      "\n",
      "Actual probability   = 0.000772\n",
      "Estimate probability = 0.000782\n",
      "\n",
      "Actual probability   = 0.000772\n",
      "Estimate probability = 0.000798\n",
      "\n",
      "Actual probability   = 0.000772\n",
      "Estimate probability = 0.00079\n",
      "\n",
      "Actual probability   = 0.000772\n",
      "Estimate probability = 0.00075\n",
      "\n",
      "Actual probability   = 0.000772\n",
      "Estimate probability = 0.000765\n",
      "\n",
      "Actual probability   = 0.000772\n",
      "Estimate probability = 0.000817\n",
      "\n",
      "Actual probability   = 0.000772\n",
      "Estimate probability = 0.00079\n",
      "\n",
      "Actual probability   = 0.000772\n",
      "Estimate probability = 0.000773\n"
     ]
    }
   ],
   "source": [
    "for i in range(1):\n",
    "    print()\n",
    "    runSim(\"1111\", 1000000)"
   ]
  },
  {
   "cell_type": "code",
   "execution_count": null,
   "metadata": {},
   "outputs": [
    {
     "name": "stdout",
     "output_type": "stream",
     "text": [
      "Expected:                   2.77778%\n",
      "Frequency of a double six = 2.8087%\n"
     ]
    }
   ],
   "source": [
    "print(\"Expected:                  \", str(round(1/36*100, 5)) + \"%\")\n",
    "for i in range(10):\n",
    "    runSimBoxcars(1000000)"
   ]
  },
  {
   "cell_type": "code",
   "execution_count": null,
   "metadata": {
    "collapsed": true
   },
   "outputs": [],
   "source": []
  }
 ],
 "metadata": {
  "kernelspec": {
   "display_name": "Python 3",
   "language": "python",
   "name": "python3"
  },
  "language_info": {
   "codemirror_mode": {
    "name": "ipython",
    "version": 3
   },
   "file_extension": ".py",
   "mimetype": "text/x-python",
   "name": "python",
   "nbconvert_exporter": "python",
   "pygments_lexer": "ipython3",
   "version": "3.6.2"
  }
 },
 "nbformat": 4,
 "nbformat_minor": 2
}
