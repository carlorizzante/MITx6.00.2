{
 "cells": [
  {
   "cell_type": "code",
   "execution_count": 59,
   "metadata": {},
   "outputs": [
    {
     "name": "stdout",
     "output_type": "stream",
     "text": [
      "p1, p2    (3,4) (5,7)\n",
      "p1 + p2 = (8,11)\n",
      "p1 - p2 = (-2,-3)\n",
      "a * p1 =  (30,40)\n",
      "p1 * p2 = 43\n"
     ]
    }
   ],
   "source": [
    "class Point(object):\n",
    "    def __init__(self, x, y):\n",
    "        self.x = x\n",
    "        self.y = y\n",
    "    def __add__(self, other):\n",
    "        return Point(self.x + other.x, self.y + other.y)\n",
    "    def __sub__(self, other):\n",
    "        return Point(self.x-other.x, self.y-other.y)\n",
    "    def __mul__(self, other):\n",
    "        return self.x * other.x + self.y * other.y\n",
    "    def __rmul__(self,alpha):\n",
    "        return Point(alpha * self.x, alpha * self.y)\n",
    "    def __str__(self):\n",
    "        return \"(\" + str(self.x) + \",\" + str(self.y) + \")\"\n",
    "\n",
    "p1 = Point(3,4)\n",
    "p2 = Point(5,7)\n",
    "a = 10\n",
    "print(\"p1, p2   \", p1,p2)\n",
    "print(\"p1 + p2 =\", p1 + p2)\n",
    "print(\"p1 - p2 =\", p1 - p2)\n",
    "print(\"a * p1 = \", a * p1)\n",
    "print(\"p1 * p2 =\", p1 * p2)"
   ]
  },
  {
   "cell_type": "code",
   "execution_count": null,
   "metadata": {},
   "outputs": [],
   "source": []
  },
  {
   "cell_type": "code",
   "execution_count": 12,
   "metadata": {},
   "outputs": [
    {
     "name": "stdout",
     "output_type": "stream",
     "text": [
      "True\n",
      "True\n",
      "True\n",
      "True\n"
     ]
    }
   ],
   "source": [
    "a = 3\n",
    "b = 4\n",
    "c = 5\n",
    "print(a**2 + b**2 == c**2)\n",
    "a = 6\n",
    "b = 8\n",
    "c = 10\n",
    "print(a**2 + b**2 == c**2)\n",
    "a = 9\n",
    "b = 12\n",
    "c = 15\n",
    "print(a**2 + b**2 == c**2)\n",
    "a = 12\n",
    "b = 16\n",
    "c = 20\n",
    "print(a**2 + b**2 == c**2)"
   ]
  },
  {
   "cell_type": "code",
   "execution_count": null,
   "metadata": {},
   "outputs": [],
   "source": []
  },
  {
   "cell_type": "code",
   "execution_count": null,
   "metadata": {
    "collapsed": true
   },
   "outputs": [],
   "source": []
  }
 ],
 "metadata": {
  "kernelspec": {
   "display_name": "Python 3",
   "language": "python",
   "name": "python3"
  },
  "language_info": {
   "codemirror_mode": {
    "name": "ipython",
    "version": 3
   },
   "file_extension": ".py",
   "mimetype": "text/x-python",
   "name": "python",
   "nbconvert_exporter": "python",
   "pygments_lexer": "ipython3",
   "version": "3.6.2"
  }
 },
 "nbformat": 4,
 "nbformat_minor": 2
}
